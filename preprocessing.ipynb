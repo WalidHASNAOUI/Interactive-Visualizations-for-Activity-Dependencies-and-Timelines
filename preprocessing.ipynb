{
 "cells": [
  {
   "cell_type": "code",
   "execution_count": 1,
   "metadata": {},
   "outputs": [],
   "source": [
    "import pandas as pd\n",
    "import plotly.express as px\n",
    "import plotly.graph_objects as go\n",
    "import networkx as nx\n",
    "import matplotlib.pyplot as plt\n",
    "import random"
   ]
  },
  {
   "cell_type": "code",
   "execution_count": 2,
   "metadata": {},
   "outputs": [],
   "source": [
    "# Load CSVs into pandas dataframes\n",
    "activities_df = pd.read_csv(\"./data/activities.csv\")  # Example filename\n",
    "dependencies_df = pd.read_csv(\"./data/dependencies.csv\")  # Example filename"
   ]
  },
  {
   "cell_type": "code",
   "execution_count": 3,
   "metadata": {},
   "outputs": [
    {
     "data": {
      "text/plain": [
       "Task        0\n",
       "Activity    0\n",
       "Start       1\n",
       "End         1\n",
       "dtype: int64"
      ]
     },
     "execution_count": 3,
     "metadata": {},
     "output_type": "execute_result"
    }
   ],
   "source": [
    "# Check for missing values in activities_df\n",
    "activities_df.isnull().sum()"
   ]
  },
  {
   "cell_type": "code",
   "execution_count": 4,
   "metadata": {},
   "outputs": [
    {
     "data": {
      "text/plain": [
       "Task        0\n",
       "Activity    0\n",
       "Start       0\n",
       "End         0\n",
       "dtype: int64"
      ]
     },
     "execution_count": 4,
     "metadata": {},
     "output_type": "execute_result"
    }
   ],
   "source": [
    "# Remove rows with missing dates \n",
    "activities_df.dropna(\n",
    "    subset=['Start', 'End'], \n",
    "    inplace=True\n",
    ")\n",
    "\n",
    "# Re-check for missing dates\n",
    "activities_df.isnull().sum()"
   ]
  },
  {
   "cell_type": "code",
   "execution_count": 5,
   "metadata": {},
   "outputs": [
    {
     "data": {
      "text/html": [
       "<div>\n",
       "<style scoped>\n",
       "    .dataframe tbody tr th:only-of-type {\n",
       "        vertical-align: middle;\n",
       "    }\n",
       "\n",
       "    .dataframe tbody tr th {\n",
       "        vertical-align: top;\n",
       "    }\n",
       "\n",
       "    .dataframe thead th {\n",
       "        text-align: right;\n",
       "    }\n",
       "</style>\n",
       "<table border=\"1\" class=\"dataframe\">\n",
       "  <thead>\n",
       "    <tr style=\"text-align: right;\">\n",
       "      <th></th>\n",
       "      <th>Start</th>\n",
       "      <th>End</th>\n",
       "    </tr>\n",
       "  </thead>\n",
       "  <tbody>\n",
       "    <tr>\n",
       "      <th>1</th>\n",
       "      <td>01/11/23</td>\n",
       "      <td>31/12/23</td>\n",
       "    </tr>\n",
       "    <tr>\n",
       "      <th>2</th>\n",
       "      <td>01/11/23</td>\n",
       "      <td>31/10/27</td>\n",
       "    </tr>\n",
       "    <tr>\n",
       "      <th>3</th>\n",
       "      <td>01/11/23</td>\n",
       "      <td>31/10/24</td>\n",
       "    </tr>\n",
       "    <tr>\n",
       "      <th>4</th>\n",
       "      <td>01/10/24</td>\n",
       "      <td>31/10/27</td>\n",
       "    </tr>\n",
       "    <tr>\n",
       "      <th>5</th>\n",
       "      <td>01/11/23</td>\n",
       "      <td>31/12/23</td>\n",
       "    </tr>\n",
       "  </tbody>\n",
       "</table>\n",
       "</div>"
      ],
      "text/plain": [
       "      Start       End\n",
       "1  01/11/23  31/12/23\n",
       "2  01/11/23  31/10/27\n",
       "3  01/11/23  31/10/24\n",
       "4  01/10/24  31/10/27\n",
       "5  01/11/23  31/12/23"
      ]
     },
     "execution_count": 5,
     "metadata": {},
     "output_type": "execute_result"
    }
   ],
   "source": [
    "# check the content of activities_df\n",
    "activities_df[['Start', 'End']].head()"
   ]
  },
  {
   "cell_type": "code",
   "execution_count": 6,
   "metadata": {},
   "outputs": [
    {
     "data": {
      "text/html": [
       "<div>\n",
       "<style scoped>\n",
       "    .dataframe tbody tr th:only-of-type {\n",
       "        vertical-align: middle;\n",
       "    }\n",
       "\n",
       "    .dataframe tbody tr th {\n",
       "        vertical-align: top;\n",
       "    }\n",
       "\n",
       "    .dataframe thead th {\n",
       "        text-align: right;\n",
       "    }\n",
       "</style>\n",
       "<table border=\"1\" class=\"dataframe\">\n",
       "  <thead>\n",
       "    <tr style=\"text-align: right;\">\n",
       "      <th></th>\n",
       "      <th>Task</th>\n",
       "      <th>Activity</th>\n",
       "      <th>Start</th>\n",
       "      <th>End</th>\n",
       "    </tr>\n",
       "  </thead>\n",
       "  <tbody>\n",
       "    <tr>\n",
       "      <th>1</th>\n",
       "      <td>Task 1.1 Improve and transform the governance ...</td>\n",
       "      <td>A.1.1.1 Introduce the new partners to the achi...</td>\n",
       "      <td>2023-11-01</td>\n",
       "      <td>2023-12-31</td>\n",
       "    </tr>\n",
       "    <tr>\n",
       "      <th>2</th>\n",
       "      <td>Task 1.1 Improve and transform the governance ...</td>\n",
       "      <td>A.1.1.2 Update and maintain the governance str...</td>\n",
       "      <td>2023-11-01</td>\n",
       "      <td>2027-10-31</td>\n",
       "    </tr>\n",
       "    <tr>\n",
       "      <th>3</th>\n",
       "      <td>Task 1.1 Improve and transform the governance ...</td>\n",
       "      <td>A.1.1.3 Establish the agenda of the new bodies...</td>\n",
       "      <td>2023-11-01</td>\n",
       "      <td>2024-10-31</td>\n",
       "    </tr>\n",
       "    <tr>\n",
       "      <th>4</th>\n",
       "      <td>Task 1.1 Improve and transform the governance ...</td>\n",
       "      <td>A.1.1.4 Coordinate the development of the UNIT...</td>\n",
       "      <td>2024-10-01</td>\n",
       "      <td>2027-10-31</td>\n",
       "    </tr>\n",
       "    <tr>\n",
       "      <th>5</th>\n",
       "      <td>Task 1.2 Manage and coordinate UNITA</td>\n",
       "      <td>A.1.2.1 Introduce the new partners to the achi...</td>\n",
       "      <td>2023-11-01</td>\n",
       "      <td>2023-12-31</td>\n",
       "    </tr>\n",
       "  </tbody>\n",
       "</table>\n",
       "</div>"
      ],
      "text/plain": [
       "                                                Task  \\\n",
       "1  Task 1.1 Improve and transform the governance ...   \n",
       "2  Task 1.1 Improve and transform the governance ...   \n",
       "3  Task 1.1 Improve and transform the governance ...   \n",
       "4  Task 1.1 Improve and transform the governance ...   \n",
       "5               Task 1.2 Manage and coordinate UNITA   \n",
       "\n",
       "                                            Activity      Start        End  \n",
       "1  A.1.1.1 Introduce the new partners to the achi... 2023-11-01 2023-12-31  \n",
       "2  A.1.1.2 Update and maintain the governance str... 2023-11-01 2027-10-31  \n",
       "3  A.1.1.3 Establish the agenda of the new bodies... 2023-11-01 2024-10-31  \n",
       "4  A.1.1.4 Coordinate the development of the UNIT... 2024-10-01 2027-10-31  \n",
       "5  A.1.2.1 Introduce the new partners to the achi... 2023-11-01 2023-12-31  "
      ]
     },
     "execution_count": 6,
     "metadata": {},
     "output_type": "execute_result"
    }
   ],
   "source": [
    "# Parse dates into datetime format\n",
    "activities_df['Start'] = pd.to_datetime(activities_df['Start'], format='%d/%m/%y' , errors='coerce')\n",
    "activities_df['End'] = pd.to_datetime(activities_df['End'], format='%d/%m/%y' , errors='coerce')\n",
    "dependencies_df['Start'] = pd.to_datetime(dependencies_df['Start'],format='%d/%m/%y', errors='coerce')\n",
    "dependencies_df['End'] = pd.to_datetime(dependencies_df['End'], format='%d/%m/%y', errors='coerce')\n",
    "\n",
    "activities_df.head(5)"
   ]
  },
  {
   "cell_type": "markdown",
   "metadata": {},
   "source": [
    "## Visualizing Activities and Dependencies "
   ]
  },
  {
   "cell_type": "markdown",
   "metadata": {},
   "source": [
    "### Gantt Chart (Tasks and Activity Timeline)"
   ]
  },
  {
   "cell_type": "code",
   "execution_count": 7,
   "metadata": {},
   "outputs": [
    {
     "data": {
      "application/vnd.plotly.v1+json": {
       "config": {
        "plotlyServerURL": "https://plot.ly"
       },
       "data": [
        {
         "alignmentgroup": "True",
         "base": [
          "2023-11-01T00:00:00"
         ],
         "hovertemplate": "Activity=A.1.1.1 Introduce the new partners to the achievements and lessons learned from phase one<br>Start=%{base}<br>End=%{x}<br>Task=%{y}<extra></extra>",
         "legendgroup": "A.1.1.1 Introduce the new partners to the achievements and lessons learned from phase one",
         "marker": {
          "color": "#636efa",
          "pattern": {
           "shape": ""
          }
         },
         "name": "A.1.1.1 Introduce the new partners to the achievements and lessons learned from phase one",
         "offsetgroup": "A.1.1.1 Introduce the new partners to the achievements and lessons learned from phase one",
         "orientation": "h",
         "showlegend": true,
         "textposition": "auto",
         "type": "bar",
         "x": [
          5184000000
         ],
         "xaxis": "x",
         "y": [
          "Task 1.1 Improve and transform the governance of UNITA"
         ],
         "yaxis": "y"
        },
        {
         "alignmentgroup": "True",
         "base": [
          "2023-11-01T00:00:00"
         ],
         "hovertemplate": "Activity=A.1.1.2 Update and maintain the governance structures (Governance Board, Student Assembly, Quality and Evaluation Board)<br>Start=%{base}<br>End=%{x}<br>Task=%{y}<extra></extra>",
         "legendgroup": "A.1.1.2 Update and maintain the governance structures (Governance Board, Student Assembly, Quality and Evaluation Board)",
         "marker": {
          "color": "#EF553B",
          "pattern": {
           "shape": ""
          }
         },
         "name": "A.1.1.2 Update and maintain the governance structures (Governance Board, Student Assembly, Quality and Evaluation Board)",
         "offsetgroup": "A.1.1.2 Update and maintain the governance structures (Governance Board, Student Assembly, Quality and Evaluation Board)",
         "orientation": "h",
         "showlegend": true,
         "textposition": "auto",
         "type": "bar",
         "x": [
          126144000000
         ],
         "xaxis": "x",
         "y": [
          "Task 1.1 Improve and transform the governance of UNITA"
         ],
         "yaxis": "y"
        },
        {
         "alignmentgroup": "True",
         "base": [
          "2023-11-01T00:00:00"
         ],
         "hovertemplate": "Activity=A.1.1.3 Establish the agenda of the new bodies of the enlarged alliance<br>Start=%{base}<br>End=%{x}<br>Task=%{y}<extra></extra>",
         "legendgroup": "A.1.1.3 Establish the agenda of the new bodies of the enlarged alliance",
         "marker": {
          "color": "#00cc96",
          "pattern": {
           "shape": ""
          }
         },
         "name": "A.1.1.3 Establish the agenda of the new bodies of the enlarged alliance",
         "offsetgroup": "A.1.1.3 Establish the agenda of the new bodies of the enlarged alliance",
         "orientation": "h",
         "showlegend": true,
         "textposition": "auto",
         "type": "bar",
         "x": [
          31536000000
         ],
         "xaxis": "x",
         "y": [
          "Task 1.1 Improve and transform the governance of UNITA"
         ],
         "yaxis": "y"
        },
        {
         "alignmentgroup": "True",
         "base": [
          "2024-10-01T00:00:00"
         ],
         "hovertemplate": "Activity=A.1.1.4 Coordinate the development of the UNITA model for a European University<br>Start=%{base}<br>End=%{x}<br>Task=%{y}<extra></extra>",
         "legendgroup": "A.1.1.4 Coordinate the development of the UNITA model for a European University",
         "marker": {
          "color": "#ab63fa",
          "pattern": {
           "shape": ""
          }
         },
         "name": "A.1.1.4 Coordinate the development of the UNITA model for a European University",
         "offsetgroup": "A.1.1.4 Coordinate the development of the UNITA model for a European University",
         "orientation": "h",
         "showlegend": true,
         "textposition": "auto",
         "type": "bar",
         "x": [
          97200000000
         ],
         "xaxis": "x",
         "y": [
          "Task 1.1 Improve and transform the governance of UNITA"
         ],
         "yaxis": "y"
        },
        {
         "alignmentgroup": "True",
         "base": [
          "2023-11-01T00:00:00"
         ],
         "hovertemplate": "Activity=A.1.2.1 Introduce the new partners to the achievements and lessons learned from phase one and to project management practices<br>Start=%{base}<br>End=%{x}<br>Task=%{y}<extra></extra>",
         "legendgroup": "A.1.2.1 Introduce the new partners to the achievements and lessons learned from phase one and to project management practices",
         "marker": {
          "color": "#FFA15A",
          "pattern": {
           "shape": ""
          }
         },
         "name": "A.1.2.1 Introduce the new partners to the achievements and lessons learned from phase one and to project management practices",
         "offsetgroup": "A.1.2.1 Introduce the new partners to the achievements and lessons learned from phase one and to project management practices",
         "orientation": "h",
         "showlegend": true,
         "textposition": "auto",
         "type": "bar",
         "x": [
          5184000000
         ],
         "xaxis": "x",
         "y": [
          "Task 1.2 Manage and coordinate UNITA"
         ],
         "yaxis": "y"
        },
        {
         "alignmentgroup": "True",
         "base": [
          "2023-11-01T00:00:00"
         ],
         "hovertemplate": "Activity=A.1.2.2 Establish the UNITA Offices<br>Start=%{base}<br>End=%{x}<br>Task=%{y}<extra></extra>",
         "legendgroup": "A.1.2.2 Establish the UNITA Offices",
         "marker": {
          "color": "#19d3f3",
          "pattern": {
           "shape": ""
          }
         },
         "name": "A.1.2.2 Establish the UNITA Offices",
         "offsetgroup": "A.1.2.2 Establish the UNITA Offices",
         "orientation": "h",
         "showlegend": true,
         "textposition": "auto",
         "type": "bar",
         "x": [
          15638400000
         ],
         "xaxis": "x",
         "y": [
          "Task 1.2 Manage and coordinate UNITA"
         ],
         "yaxis": "y"
        },
        {
         "alignmentgroup": "True",
         "base": [
          "2023-11-01T00:00:00"
         ],
         "hovertemplate": "Activity=A.1.2.3 Implement the UNITA management structure<br>Start=%{base}<br>End=%{x}<br>Task=%{y}<extra></extra>",
         "legendgroup": "A.1.2.3 Implement the UNITA management structure",
         "marker": {
          "color": "#FF6692",
          "pattern": {
           "shape": ""
          }
         },
         "name": "A.1.2.3 Implement the UNITA management structure",
         "offsetgroup": "A.1.2.3 Implement the UNITA management structure",
         "orientation": "h",
         "showlegend": true,
         "textposition": "auto",
         "type": "bar",
         "x": [
          20908800000
         ],
         "xaxis": "x",
         "y": [
          "Task 1.2 Manage and coordinate UNITA"
         ],
         "yaxis": "y"
        },
        {
         "alignmentgroup": "True",
         "base": [
          "2023-11-01T00:00:00"
         ],
         "hovertemplate": "Activity=A.1.2.4 Update the UNITA Management Guide and tools and design a DataWarehouse<br>Start=%{base}<br>End=%{x}<br>Task=%{y}<extra></extra>",
         "legendgroup": "A.1.2.4 Update the UNITA Management Guide and tools and design a DataWarehouse",
         "marker": {
          "color": "#B6E880",
          "pattern": {
           "shape": ""
          }
         },
         "name": "A.1.2.4 Update the UNITA Management Guide and tools and design a DataWarehouse",
         "offsetgroup": "A.1.2.4 Update the UNITA Management Guide and tools and design a DataWarehouse",
         "orientation": "h",
         "showlegend": true,
         "textposition": "auto",
         "type": "bar",
         "x": [
          23587200000
         ],
         "xaxis": "x",
         "y": [
          "Task 1.2 Manage and coordinate UNITA"
         ],
         "yaxis": "y"
        },
        {
         "alignmentgroup": "True",
         "base": [
          "2023-11-01T00:00:00"
         ],
         "hovertemplate": "Activity=A.1.2.5 Continuous management and coordination of the tasks activities<br>Start=%{base}<br>End=%{x}<br>Task=%{y}<extra></extra>",
         "legendgroup": "A.1.2.5 Continuous management and coordination of the tasks activities",
         "marker": {
          "color": "#FF97FF",
          "pattern": {
           "shape": ""
          }
         },
         "name": "A.1.2.5 Continuous management and coordination of the tasks activities",
         "offsetgroup": "A.1.2.5 Continuous management and coordination of the tasks activities",
         "orientation": "h",
         "showlegend": true,
         "textposition": "auto",
         "type": "bar",
         "x": [
          126144000000
         ],
         "xaxis": "x",
         "y": [
          "Task 1.2 Manage and coordinate UNITA"
         ],
         "yaxis": "y"
        },
        {
         "alignmentgroup": "True",
         "base": [
          "2023-11-01T00:00:00"
         ],
         "hovertemplate": "Activity=A.1.3.1 Introduce the new partners to the achievements and lessons learned from phase one and to Quality Assurance practices<br>Start=%{base}<br>End=%{x}<br>Task=%{y}<extra></extra>",
         "legendgroup": "A.1.3.1 Introduce the new partners to the achievements and lessons learned from phase one and to Quality Assurance practices",
         "marker": {
          "color": "#FECB52",
          "pattern": {
           "shape": ""
          }
         },
         "name": "A.1.3.1 Introduce the new partners to the achievements and lessons learned from phase one and to Quality Assurance practices",
         "offsetgroup": "A.1.3.1 Introduce the new partners to the achievements and lessons learned from phase one and to Quality Assurance practices",
         "orientation": "h",
         "showlegend": true,
         "textposition": "auto",
         "type": "bar",
         "x": [
          5184000000
         ],
         "xaxis": "x",
         "y": [
          "Task 1.3 UNITA Quality Assurance"
         ],
         "yaxis": "y"
        },
        {
         "alignmentgroup": "True",
         "base": [
          "2024-01-01T00:00:00"
         ],
         "hovertemplate": "Activity=A.1.3.2 Update the general synoptic assessment of partner Quality Assurance systems<br>Start=%{base}<br>End=%{x}<br>Task=%{y}<extra></extra>",
         "legendgroup": "A.1.3.2 Update the general synoptic assessment of partner Quality Assurance systems",
         "marker": {
          "color": "#636efa",
          "pattern": {
           "shape": ""
          }
         },
         "name": "A.1.3.2 Update the general synoptic assessment of partner Quality Assurance systems",
         "offsetgroup": "A.1.3.2 Update the general synoptic assessment of partner Quality Assurance systems",
         "orientation": "h",
         "showlegend": true,
         "textposition": "auto",
         "type": "bar",
         "x": [
          26265600000
         ],
         "xaxis": "x",
         "y": [
          "Task 1.3 UNITA Quality Assurance"
         ],
         "yaxis": "y"
        },
        {
         "alignmentgroup": "True",
         "base": [
          "2024-11-01T00:00:00"
         ],
         "hovertemplate": "Activity=A.1.3.3 Implement and test the evaluation of progress, pro-cesses, cost-efficiency, and deliverables of the first year<br>Start=%{base}<br>End=%{x}<br>Task=%{y}<extra></extra>",
         "legendgroup": "A.1.3.3 Implement and test the evaluation of progress, pro-cesses, cost-efficiency, and deliverables of the first year",
         "marker": {
          "color": "#EF553B",
          "pattern": {
           "shape": ""
          }
         },
         "name": "A.1.3.3 Implement and test the evaluation of progress, pro-cesses, cost-efficiency, and deliverables of the first year",
         "offsetgroup": "A.1.3.3 Implement and test the evaluation of progress, pro-cesses, cost-efficiency, and deliverables of the first year",
         "orientation": "h",
         "showlegend": true,
         "textposition": "auto",
         "type": "bar",
         "x": [
          94521600000
         ],
         "xaxis": "x",
         "y": [
          "Task 1.3 UNITA Quality Assurance"
         ],
         "yaxis": "y"
        },
        {
         "alignmentgroup": "True",
         "base": [
          "2025-10-01T00:00:00"
         ],
         "hovertemplate": "Activity=A.1.3.4 Co-develop together with TT1.1 and disseminate the UNITA Quality Assurance strategy<br>Start=%{base}<br>End=%{x}<br>Task=%{y}<extra></extra>",
         "legendgroup": "A.1.3.4 Co-develop together with TT1.1 and disseminate the UNITA Quality Assurance strategy",
         "marker": {
          "color": "#00cc96",
          "pattern": {
           "shape": ""
          }
         },
         "name": "A.1.3.4 Co-develop together with TT1.1 and disseminate the UNITA Quality Assurance strategy",
         "offsetgroup": "A.1.3.4 Co-develop together with TT1.1 and disseminate the UNITA Quality Assurance strategy",
         "orientation": "h",
         "showlegend": true,
         "textposition": "auto",
         "type": "bar",
         "x": [
          65664000000
         ],
         "xaxis": "x",
         "y": [
          "Task 1.3 UNITA Quality Assurance"
         ],
         "yaxis": "y"
        },
        {
         "alignmentgroup": "True",
         "base": [
          "2023-11-01T00:00:00"
         ],
         "hovertemplate": "Activity=A.2.1.1 Outline student and staff policies through-out the alliance<br>Start=%{base}<br>End=%{x}<br>Task=%{y}<extra></extra>",
         "legendgroup": "A.2.1.1 Outline student and staff policies through-out the alliance",
         "marker": {
          "color": "#ab63fa",
          "pattern": {
           "shape": ""
          }
         },
         "name": "A.2.1.1 Outline student and staff policies through-out the alliance",
         "offsetgroup": "A.2.1.1 Outline student and staff policies through-out the alliance",
         "orientation": "h",
         "showlegend": true,
         "textposition": "auto",
         "type": "bar",
         "x": [
          28857600000
         ],
         "xaxis": "x",
         "y": [
          "Task 2.1 Sustainable policies for students and staff"
         ],
         "yaxis": "y"
        },
        {
         "alignmentgroup": "True",
         "base": [
          "2024-10-01T00:00:00"
         ],
         "hovertemplate": "Activity=A.2.1.2 Promote student and staff well-being<br>Start=%{base}<br>End=%{x}<br>Task=%{y}<extra></extra>",
         "legendgroup": "A.2.1.2 Promote student and staff well-being",
         "marker": {
          "color": "#FFA15A",
          "pattern": {
           "shape": ""
          }
         },
         "name": "A.2.1.2 Promote student and staff well-being",
         "offsetgroup": "A.2.1.2 Promote student and staff well-being",
         "orientation": "h",
         "showlegend": true,
         "textposition": "auto",
         "type": "bar",
         "x": [
          97200000000
         ],
         "xaxis": "x",
         "y": [
          "Task 2.1 Sustainable policies for students and staff"
         ],
         "yaxis": "y"
        },
        {
         "alignmentgroup": "True",
         "base": [
          "2024-10-01T00:00:00"
         ],
         "hovertemplate": "Activity=A.2.1.3 Promote inclusion and gender equity<br>Start=%{base}<br>End=%{x}<br>Task=%{y}<extra></extra>",
         "legendgroup": "A.2.1.3 Promote inclusion and gender equity",
         "marker": {
          "color": "#19d3f3",
          "pattern": {
           "shape": ""
          }
         },
         "name": "A.2.1.3 Promote inclusion and gender equity",
         "offsetgroup": "A.2.1.3 Promote inclusion and gender equity",
         "orientation": "h",
         "showlegend": true,
         "textposition": "auto",
         "type": "bar",
         "x": [
          97200000000
         ],
         "xaxis": "x",
         "y": [
          "Task 2.1 Sustainable policies for students and staff"
         ],
         "yaxis": "y"
        },
        {
         "alignmentgroup": "True",
         "base": [
          "2024-10-01T00:00:00"
         ],
         "hovertemplate": "Activity=A.2.1.4 Foster staff training and career development<br>Start=%{base}<br>End=%{x}<br>Task=%{y}<extra></extra>",
         "legendgroup": "A.2.1.4 Foster staff training and career development",
         "marker": {
          "color": "#FF6692",
          "pattern": {
           "shape": ""
          }
         },
         "name": "A.2.1.4 Foster staff training and career development",
         "offsetgroup": "A.2.1.4 Foster staff training and career development",
         "orientation": "h",
         "showlegend": true,
         "textposition": "auto",
         "type": "bar",
         "x": [
          97200000000
         ],
         "xaxis": "x",
         "y": [
          "Task 2.1 Sustainable policies for students and staff"
         ],
         "yaxis": "y"
        },
        {
         "alignmentgroup": "True",
         "base": [
          "2024-10-01T00:00:00"
         ],
         "hovertemplate": "Activity=A.2.1.5 Facilitate organisational innovation through intra-entrepreneurship and management development<br>Start=%{base}<br>End=%{x}<br>Task=%{y}<extra></extra>",
         "legendgroup": "A.2.1.5 Facilitate organisational innovation through intra-entrepreneurship and management development",
         "marker": {
          "color": "#B6E880",
          "pattern": {
           "shape": ""
          }
         },
         "name": "A.2.1.5 Facilitate organisational innovation through intra-entrepreneurship and management development",
         "offsetgroup": "A.2.1.5 Facilitate organisational innovation through intra-entrepreneurship and management development",
         "orientation": "h",
         "showlegend": true,
         "textposition": "auto",
         "type": "bar",
         "x": [
          97200000000
         ],
         "xaxis": "x",
         "y": [
          "Task 2.1 Sustainable policies for students and staff"
         ],
         "yaxis": "y"
        },
        {
         "alignmentgroup": "True",
         "base": [
          "2024-10-01T00:00:00"
         ],
         "hovertemplate": "Activity=A.2.1.6 Connect students’ organisations and initiatives<br>Start=%{base}<br>End=%{x}<br>Task=%{y}<extra></extra>",
         "legendgroup": "A.2.1.6 Connect students’ organisations and initiatives",
         "marker": {
          "color": "#FF97FF",
          "pattern": {
           "shape": ""
          }
         },
         "name": "A.2.1.6 Connect students’ organisations and initiatives",
         "offsetgroup": "A.2.1.6 Connect students’ organisations and initiatives",
         "orientation": "h",
         "showlegend": true,
         "textposition": "auto",
         "type": "bar",
         "x": [
          97200000000
         ],
         "xaxis": "x",
         "y": [
          "Task 2.1 Sustainable policies for students and staff"
         ],
         "yaxis": "y"
        },
        {
         "alignmentgroup": "True",
         "base": [
          "2023-11-01T00:00:00"
         ],
         "hovertemplate": "Activity=A.2.2.1 Chart the activities on Romance languages teaching and learning and IC<br>Start=%{base}<br>End=%{x}<br>Task=%{y}<extra></extra>",
         "legendgroup": "A.2.2.1 Chart the activities on Romance languages teaching and learning and IC",
         "marker": {
          "color": "#FECB52",
          "pattern": {
           "shape": ""
          }
         },
         "name": "A.2.2.1 Chart the activities on Romance languages teaching and learning and IC",
         "offsetgroup": "A.2.2.1 Chart the activities on Romance languages teaching and learning and IC",
         "orientation": "h",
         "showlegend": true,
         "textposition": "auto",
         "type": "bar",
         "x": [
          10281600000
         ],
         "xaxis": "x",
         "y": [
          "Task 2.2 Romance languages learning and intercomprehension"
         ],
         "yaxis": "y"
        },
        {
         "alignmentgroup": "True",
         "base": [
          "2024-02-01T00:00:00"
         ],
         "hovertemplate": "Activity=A.2.2.2 Define a UNITA label for Romance languages learning and IC<br>Start=%{base}<br>End=%{x}<br>Task=%{y}<extra></extra>",
         "legendgroup": "A.2.2.2 Define a UNITA label for Romance languages learning and IC",
         "marker": {
          "color": "#636efa",
          "pattern": {
           "shape": ""
          }
         },
         "name": "A.2.2.2 Define a UNITA label for Romance languages learning and IC",
         "offsetgroup": "A.2.2.2 Define a UNITA label for Romance languages learning and IC",
         "orientation": "h",
         "showlegend": true,
         "textposition": "auto",
         "type": "bar",
         "x": [
          7689600000
         ],
         "xaxis": "x",
         "y": [
          "Task 2.2 Romance languages learning and intercomprehension"
         ],
         "yaxis": "y"
        },
        {
         "alignmentgroup": "True",
         "base": [
          "2024-04-01T00:00:00"
         ],
         "hovertemplate": "Activity=A.2.2.3 Create a network of UNITA language centres, including GEMINAE partners<br>Start=%{base}<br>End=%{x}<br>Task=%{y}<extra></extra>",
         "legendgroup": "A.2.2.3 Create a network of UNITA language centres, including GEMINAE partners",
         "marker": {
          "color": "#EF553B",
          "pattern": {
           "shape": ""
          }
         },
         "name": "A.2.2.3 Create a network of UNITA language centres, including GEMINAE partners",
         "offsetgroup": "A.2.2.3 Create a network of UNITA language centres, including GEMINAE partners",
         "orientation": "h",
         "showlegend": true,
         "textposition": "auto",
         "type": "bar",
         "x": [
          18403200000
         ],
         "xaxis": "x",
         "y": [
          "Task 2.2 Romance languages learning and intercomprehension"
         ],
         "yaxis": "y"
        },
        {
         "alignmentgroup": "True",
         "base": [
          "2024-11-01T00:00:00"
         ],
         "hovertemplate": "Activity=A.2.2.4 Define and adopt a UNITA Language Policy<br>Start=%{base}<br>End=%{x}<br>Task=%{y}<extra></extra>",
         "legendgroup": "A.2.2.4 Define and adopt a UNITA Language Policy",
         "marker": {
          "color": "#00cc96",
          "pattern": {
           "shape": ""
          }
         },
         "name": "A.2.2.4 Define and adopt a UNITA Language Policy",
         "offsetgroup": "A.2.2.4 Define and adopt a UNITA Language Policy",
         "orientation": "h",
         "showlegend": true,
         "textposition": "auto",
         "type": "bar",
         "x": [
          94521600000
         ],
         "xaxis": "x",
         "y": [
          "Task 2.2 Romance languages learning and intercomprehension"
         ],
         "yaxis": "y"
        },
        {
         "alignmentgroup": "True",
         "base": [
          "2024-10-01T00:00:00"
         ],
         "hovertemplate": "Activity=A.2.2.5 Produce microcredentials/modules with inclusion of “how-to pills”<br>Start=%{base}<br>End=%{x}<br>Task=%{y}<extra></extra>",
         "legendgroup": "A.2.2.5 Produce microcredentials/modules with inclusion of “how-to pills”",
         "marker": {
          "color": "#ab63fa",
          "pattern": {
           "shape": ""
          }
         },
         "name": "A.2.2.5 Produce microcredentials/modules with inclusion of “how-to pills”",
         "offsetgroup": "A.2.2.5 Produce microcredentials/modules with inclusion of “how-to pills”",
         "orientation": "h",
         "showlegend": true,
         "textposition": "auto",
         "type": "bar",
         "x": [
          97200000000
         ],
         "xaxis": "x",
         "y": [
          "Task 2.2 Romance languages learning and intercomprehension"
         ],
         "yaxis": "y"
        },
        {
         "alignmentgroup": "True",
         "base": [
          "2023-11-01T00:00:00"
         ],
         "hovertemplate": "Activity=A.2.3.1 Inventory of community building actions in the first phase<br>Start=%{base}<br>End=%{x}<br>Task=%{y}<extra></extra>",
         "legendgroup": "A.2.3.1 Inventory of community building actions in the first phase",
         "marker": {
          "color": "#FFA15A",
          "pattern": {
           "shape": ""
          }
         },
         "name": "A.2.3.1 Inventory of community building actions in the first phase",
         "offsetgroup": "A.2.3.1 Inventory of community building actions in the first phase",
         "orientation": "h",
         "showlegend": true,
         "textposition": "auto",
         "type": "bar",
         "x": [
          7862400000
         ],
         "xaxis": "x",
         "y": [
          "Task 2.3 Education, Research and Innovation community"
         ],
         "yaxis": "y"
        },
        {
         "alignmentgroup": "True",
         "base": [
          "2024-02-01T00:00:00"
         ],
         "hovertemplate": "Activity=A.2.3.2 Implement Task-focused open actions for community building<br>Start=%{base}<br>End=%{x}<br>Task=%{y}<extra></extra>",
         "legendgroup": "A.2.3.2 Implement Task-focused open actions for community building",
         "marker": {
          "color": "#19d3f3",
          "pattern": {
           "shape": ""
          }
         },
         "name": "A.2.3.2 Implement Task-focused open actions for community building",
         "offsetgroup": "A.2.3.2 Implement Task-focused open actions for community building",
         "orientation": "h",
         "showlegend": true,
         "textposition": "auto",
         "type": "bar",
         "x": [
          39225600000
         ],
         "xaxis": "x",
         "y": [
          "Task 2.3 Education, Research and Innovation community"
         ],
         "yaxis": "y"
        },
        {
         "alignmentgroup": "True",
         "base": [
          "2025-04-30T00:00:00"
         ],
         "hovertemplate": "Activity=A.2.3.3 Starting projects implementation<br>Start=%{base}<br>End=%{x}<br>Task=%{y}<extra></extra>",
         "legendgroup": "A.2.3.3 Starting projects implementation",
         "marker": {
          "color": "#FF6692",
          "pattern": {
           "shape": ""
          }
         },
         "name": "A.2.3.3 Starting projects implementation",
         "offsetgroup": "A.2.3.3 Starting projects implementation",
         "orientation": "h",
         "showlegend": true,
         "textposition": "auto",
         "type": "bar",
         "x": [
          36806400000
         ],
         "xaxis": "x",
         "y": [
          "Task 2.3 Education, Research and Innovation community"
         ],
         "yaxis": "y"
        },
        {
         "alignmentgroup": "True",
         "base": [
          "2026-04-01T00:00:00"
         ],
         "hovertemplate": "Activity=A.2.3.4 Implement advanced projects<br>Start=%{base}<br>End=%{x}<br>Task=%{y}<extra></extra>",
         "legendgroup": "A.2.3.4 Implement advanced projects",
         "marker": {
          "color": "#B6E880",
          "pattern": {
           "shape": ""
          }
         },
         "name": "A.2.3.4 Implement advanced projects",
         "offsetgroup": "A.2.3.4 Implement advanced projects",
         "orientation": "h",
         "showlegend": true,
         "textposition": "auto",
         "type": "bar",
         "x": [
          34041600000
         ],
         "xaxis": "x",
         "y": [
          "Task 2.3 Education, Research and Innovation community"
         ],
         "yaxis": "y"
        },
        {
         "alignmentgroup": "True",
         "base": [
          "2027-05-01T00:00:00"
         ],
         "hovertemplate": "Activity=A.2.3.5 Summarize and draw concluision on the second phase of UNITA community building actions<br>Start=%{base}<br>End=%{x}<br>Task=%{y}<extra></extra>",
         "legendgroup": "A.2.3.5 Summarize and draw concluision on the second phase of UNITA community building actions",
         "marker": {
          "color": "#FF97FF",
          "pattern": {
           "shape": ""
          }
         },
         "name": "A.2.3.5 Summarize and draw concluision on the second phase of UNITA community building actions",
         "offsetgroup": "A.2.3.5 Summarize and draw concluision on the second phase of UNITA community building actions",
         "orientation": "h",
         "showlegend": true,
         "textposition": "auto",
         "type": "bar",
         "x": [
          15811200000
         ],
         "xaxis": "x",
         "y": [
          "Task 2.3 Education, Research and Innovation community"
         ],
         "yaxis": "y"
        },
        {
         "alignmentgroup": "True",
         "base": [
          "2023-11-01T00:00:00"
         ],
         "hovertemplate": "Activity=A.2.4.1 Define an alliance mobility strategy and action plan<br>Start=%{base}<br>End=%{x}<br>Task=%{y}<extra></extra>",
         "legendgroup": "A.2.4.1 Define an alliance mobility strategy and action plan",
         "marker": {
          "color": "#FECB52",
          "pattern": {
           "shape": ""
          }
         },
         "name": "A.2.4.1 Define an alliance mobility strategy and action plan",
         "offsetgroup": "A.2.4.1 Define an alliance mobility strategy and action plan",
         "orientation": "h",
         "showlegend": true,
         "textposition": "auto",
         "type": "bar",
         "x": [
          31536000000
         ],
         "xaxis": "x",
         "y": [
          "Task 2.4 Seamless mobility between Campuses and territories"
         ],
         "yaxis": "y"
        },
        {
         "alignmentgroup": "True",
         "base": [
          "2023-12-01T00:00:00"
         ],
         "hovertemplate": "Activity=A.2.4.2 Encourage and facilitate mobility<br>Start=%{base}<br>End=%{x}<br>Task=%{y}<extra></extra>",
         "legendgroup": "A.2.4.2 Encourage and facilitate mobility",
         "marker": {
          "color": "#636efa",
          "pattern": {
           "shape": ""
          }
         },
         "name": "A.2.4.2 Encourage and facilitate mobility",
         "offsetgroup": "A.2.4.2 Encourage and facilitate mobility",
         "orientation": "h",
         "showlegend": true,
         "textposition": "auto",
         "type": "bar",
         "x": [
          92016000000
         ],
         "xaxis": "x",
         "y": [
          "Task 2.4 Seamless mobility between Campuses and territories"
         ],
         "yaxis": "y"
        },
        {
         "alignmentgroup": "True",
         "base": [
          "2023-12-01T00:00:00"
         ],
         "hovertemplate": "Activity=A.2.4.3 Ensure accessible mobility for every student<br>Start=%{base}<br>End=%{x}<br>Task=%{y}<extra></extra>",
         "legendgroup": "A.2.4.3 Ensure accessible mobility for every student",
         "marker": {
          "color": "#EF553B",
          "pattern": {
           "shape": ""
          }
         },
         "name": "A.2.4.3 Ensure accessible mobility for every student",
         "offsetgroup": "A.2.4.3 Ensure accessible mobility for every student",
         "orientation": "h",
         "showlegend": true,
         "textposition": "auto",
         "type": "bar",
         "x": [
          123552000000
         ],
         "xaxis": "x",
         "y": [
          "Task 2.4 Seamless mobility between Campuses and territories"
         ],
         "yaxis": "y"
        },
        {
         "alignmentgroup": "True",
         "base": [
          "2024-04-01T00:00:00"
         ],
         "hovertemplate": "Activity=A.2.4.4 Enhance the impact on the territories: UNITA Rural Mobility<br>Start=%{base}<br>End=%{x}<br>Task=%{y}<extra></extra>",
         "legendgroup": "A.2.4.4 Enhance the impact on the territories: UNITA Rural Mobility",
         "marker": {
          "color": "#00cc96",
          "pattern": {
           "shape": ""
          }
         },
         "name": "A.2.4.4 Enhance the impact on the territories: UNITA Rural Mobility",
         "offsetgroup": "A.2.4.4 Enhance the impact on the territories: UNITA Rural Mobility",
         "orientation": "h",
         "showlegend": true,
         "textposition": "auto",
         "type": "bar",
         "x": [
          107740800000
         ],
         "xaxis": "x",
         "y": [
          "Task 2.4 Seamless mobility between Campuses and territories"
         ],
         "yaxis": "y"
        },
        {
         "alignmentgroup": "True",
         "base": [
          "2024-10-01T00:00:00"
         ],
         "hovertemplate": "Activity=A.2.4.5 Track careers after mobilities<br>Start=%{base}<br>End=%{x}<br>Task=%{y}<extra></extra>",
         "legendgroup": "A.2.4.5 Track careers after mobilities",
         "marker": {
          "color": "#ab63fa",
          "pattern": {
           "shape": ""
          }
         },
         "name": "A.2.4.5 Track careers after mobilities",
         "offsetgroup": "A.2.4.5 Track careers after mobilities",
         "orientation": "h",
         "showlegend": true,
         "textposition": "auto",
         "type": "bar",
         "x": [
          97200000000
         ],
         "xaxis": "x",
         "y": [
          "Task 2.4 Seamless mobility between Campuses and territories"
         ],
         "yaxis": "y"
        },
        {
         "alignmentgroup": "True",
         "base": [
          "2023-11-01T00:00:00"
         ],
         "hovertemplate": "Activity=A.2.5.1 Recap UNITA phase one activity on European Citizenship<br>Start=%{base}<br>End=%{x}<br>Task=%{y}<extra></extra>",
         "legendgroup": "A.2.5.1 Recap UNITA phase one activity on European Citizenship",
         "marker": {
          "color": "#FFA15A",
          "pattern": {
           "shape": ""
          }
         },
         "name": "A.2.5.1 Recap UNITA phase one activity on European Citizenship",
         "offsetgroup": "A.2.5.1 Recap UNITA phase one activity on European Citizenship",
         "orientation": "h",
         "showlegend": true,
         "textposition": "auto",
         "type": "bar",
         "x": [
          15638400000
         ],
         "xaxis": "x",
         "y": [
          "Task 2.5 European Citizenship initiative"
         ],
         "yaxis": "y"
        },
        {
         "alignmentgroup": "True",
         "base": [
          "2025-01-01T00:00:00"
         ],
         "hovertemplate": "Activity=A.2.5.2 Organize an annual Conference on European Citizenship<br>Start=%{base}<br>End=%{x}<br>Task=%{y}<extra></extra>",
         "legendgroup": "A.2.5.2 Organize an annual Conference on European Citizenship",
         "marker": {
          "color": "#19d3f3",
          "pattern": {
           "shape": ""
          }
         },
         "name": "A.2.5.2 Organize an annual Conference on European Citizenship",
         "offsetgroup": "A.2.5.2 Organize an annual Conference on European Citizenship",
         "orientation": "h",
         "showlegend": true,
         "textposition": "auto",
         "type": "bar",
         "x": [
          81302400000
         ],
         "xaxis": "x",
         "y": [
          "Task 2.5 European Citizenship initiative"
         ],
         "yaxis": "y"
        },
        {
         "alignmentgroup": "True",
         "base": [
          "2024-04-01T00:00:00"
         ],
         "hovertemplate": "Activity=A.2.5.3 Set up UNITA prizes and contests on European Citizenship<br>Start=%{base}<br>End=%{x}<br>Task=%{y}<extra></extra>",
         "legendgroup": "A.2.5.3 Set up UNITA prizes and contests on European Citizenship",
         "marker": {
          "color": "#FF6692",
          "pattern": {
           "shape": ""
          }
         },
         "name": "A.2.5.3 Set up UNITA prizes and contests on European Citizenship",
         "offsetgroup": "A.2.5.3 Set up UNITA prizes and contests on European Citizenship",
         "orientation": "h",
         "showlegend": true,
         "textposition": "auto",
         "type": "bar",
         "x": [
          113011200000
         ],
         "xaxis": "x",
         "y": [
          "Task 2.5 European Citizenship initiative"
         ],
         "yaxis": "y"
        },
        {
         "alignmentgroup": "True",
         "base": [
          "2024-04-01T00:00:00"
         ],
         "hovertemplate": "Activity=A.2.5.4 Develop an action plan to integrate European Citizenship into the curricula of UNITA universities<br>Start=%{base}<br>End=%{x}<br>Task=%{y}<extra></extra>",
         "legendgroup": "A.2.5.4 Develop an action plan to integrate European Citizenship into the curricula of UNITA universities",
         "marker": {
          "color": "#B6E880",
          "pattern": {
           "shape": ""
          }
         },
         "name": "A.2.5.4 Develop an action plan to integrate European Citizenship into the curricula of UNITA universities",
         "offsetgroup": "A.2.5.4 Develop an action plan to integrate European Citizenship into the curricula of UNITA universities",
         "orientation": "h",
         "showlegend": true,
         "textposition": "auto",
         "type": "bar",
         "x": [
          97113600000
         ],
         "xaxis": "x",
         "y": [
          "Task 2.5 European Citizenship initiative"
         ],
         "yaxis": "y"
        },
        {
         "alignmentgroup": "True",
         "base": [
          "2023-11-01T00:00:00"
         ],
         "hovertemplate": "Activity=A.2.5.5 Promote a sense of belonging to European communities and inclusiveness<br>Start=%{base}<br>End=%{x}<br>Task=%{y}<extra></extra>",
         "legendgroup": "A.2.5.5 Promote a sense of belonging to European communities and inclusiveness",
         "marker": {
          "color": "#FF97FF",
          "pattern": {
           "shape": ""
          }
         },
         "name": "A.2.5.5 Promote a sense of belonging to European communities and inclusiveness",
         "offsetgroup": "A.2.5.5 Promote a sense of belonging to European communities and inclusiveness",
         "orientation": "h",
         "showlegend": true,
         "textposition": "auto",
         "type": "bar",
         "x": [
          126144000000
         ],
         "xaxis": "x",
         "y": [
          "Task 2.5 European Citizenship initiative"
         ],
         "yaxis": "y"
        },
        {
         "alignmentgroup": "True",
         "base": [
          "2023-11-01T00:00:00"
         ],
         "hovertemplate": "Activity=A.3.1.1 Introduce the new partners to the achievements and lessons learned from phase one<br>Start=%{base}<br>End=%{x}<br>Task=%{y}<extra></extra>",
         "legendgroup": "A.3.1.1 Introduce the new partners to the achievements and lessons learned from phase one",
         "marker": {
          "color": "#FECB52",
          "pattern": {
           "shape": ""
          }
         },
         "name": "A.3.1.1 Introduce the new partners to the achievements and lessons learned from phase one",
         "offsetgroup": "A.3.1.1 Introduce the new partners to the achievements and lessons learned from phase one",
         "orientation": "h",
         "showlegend": true,
         "textposition": "auto",
         "type": "bar",
         "x": [
          5184000000
         ],
         "xaxis": "x",
         "y": [
          "Task 3.1 UNITA personalised international learning paths"
         ],
         "yaxis": "y"
        },
        {
         "alignmentgroup": "True",
         "base": [
          "2024-01-01T00:00:00"
         ],
         "hovertemplate": "Activity=A.3.1.2 Create the “UNITA à la carte” model<br>Start=%{base}<br>End=%{x}<br>Task=%{y}<extra></extra>",
         "legendgroup": "A.3.1.2 Create the “UNITA à la carte” model",
         "marker": {
          "color": "#636efa",
          "pattern": {
           "shape": ""
          }
         },
         "name": "A.3.1.2 Create the “UNITA à la carte” model",
         "offsetgroup": "A.3.1.2 Create the “UNITA à la carte” model",
         "orientation": "h",
         "showlegend": true,
         "textposition": "auto",
         "type": "bar",
         "x": [
          120873600000
         ],
         "xaxis": "x",
         "y": [
          "Task 3.1 UNITA personalised international learning paths"
         ],
         "yaxis": "y"
        },
        {
         "alignmentgroup": "True",
         "base": [
          "2024-04-01T00:00:00"
         ],
         "hovertemplate": "Activity=A.3.1.3 Introduce the mobility window (MW) in study programmes<br>Start=%{base}<br>End=%{x}<br>Task=%{y}<extra></extra>",
         "legendgroup": "A.3.1.3 Introduce the mobility window (MW) in study programmes",
         "marker": {
          "color": "#EF553B",
          "pattern": {
           "shape": ""
          }
         },
         "name": "A.3.1.3 Introduce the mobility window (MW) in study programmes",
         "offsetgroup": "A.3.1.3 Introduce the mobility window (MW) in study programmes",
         "orientation": "h",
         "showlegend": true,
         "textposition": "auto",
         "type": "bar",
         "x": [
          113011200000
         ],
         "xaxis": "x",
         "y": [
          "Task 3.1 UNITA personalised international learning paths"
         ],
         "yaxis": "y"
        },
        {
         "alignmentgroup": "True",
         "base": [
          "2024-03-01T00:00:00"
         ],
         "hovertemplate": "Activity=A.3.1.4 Develop and promote a UNITA label for shared study programmes<br>Start=%{base}<br>End=%{x}<br>Task=%{y}<extra></extra>",
         "legendgroup": "A.3.1.4 Develop and promote a UNITA label for shared study programmes",
         "marker": {
          "color": "#00cc96",
          "pattern": {
           "shape": ""
          }
         },
         "name": "A.3.1.4 Develop and promote a UNITA label for shared study programmes",
         "offsetgroup": "A.3.1.4 Develop and promote a UNITA label for shared study programmes",
         "orientation": "h",
         "showlegend": true,
         "textposition": "auto",
         "type": "bar",
         "x": [
          18403200000
         ],
         "xaxis": "x",
         "y": [
          "Task 3.1 UNITA personalised international learning paths"
         ],
         "yaxis": "y"
        },
        {
         "alignmentgroup": "True",
         "base": [
          "2024-09-01T00:00:00"
         ],
         "hovertemplate": "Activity=A.3.1.5 Design and implement shared UNITA degrees<br>Start=%{base}<br>End=%{x}<br>Task=%{y}<extra></extra>",
         "legendgroup": "A.3.1.5 Design and implement shared UNITA degrees",
         "marker": {
          "color": "#ab63fa",
          "pattern": {
           "shape": ""
          }
         },
         "name": "A.3.1.5 Design and implement shared UNITA degrees",
         "offsetgroup": "A.3.1.5 Design and implement shared UNITA degrees",
         "orientation": "h",
         "showlegend": true,
         "textposition": "auto",
         "type": "bar",
         "x": [
          99792000000
         ],
         "xaxis": "x",
         "y": [
          "Task 3.1 UNITA personalised international learning paths"
         ],
         "yaxis": "y"
        },
        {
         "alignmentgroup": "True",
         "base": [
          "2023-11-01T00:00:00"
         ],
         "hovertemplate": "Activity=A.3.2.1 Define the UNITA strategy for Lifelong Learning<br>Start=%{base}<br>End=%{x}<br>Task=%{y}<extra></extra>",
         "legendgroup": "A.3.2.1 Define the UNITA strategy for Lifelong Learning",
         "marker": {
          "color": "#FFA15A",
          "pattern": {
           "shape": ""
          }
         },
         "name": "A.3.2.1 Define the UNITA strategy for Lifelong Learning",
         "offsetgroup": "A.3.2.1 Define the UNITA strategy for Lifelong Learning",
         "orientation": "h",
         "showlegend": true,
         "textposition": "auto",
         "type": "bar",
         "x": [
          15638400000
         ],
         "xaxis": "x",
         "y": [
          "Task 3.2 UNITA Micro-credentials for Lifelong Learning"
         ],
         "yaxis": "y"
        },
        {
         "alignmentgroup": "True",
         "base": [
          "2024-05-01T00:00:00"
         ],
         "hovertemplate": "Activity=A.3.2.2 Define and award the UNITA microcredential label<br>Start=%{base}<br>End=%{x}<br>Task=%{y}<extra></extra>",
         "legendgroup": "A.3.2.2 Define and award the UNITA microcredential label",
         "marker": {
          "color": "#19d3f3",
          "pattern": {
           "shape": ""
          }
         },
         "name": "A.3.2.2 Define and award the UNITA microcredential label",
         "offsetgroup": "A.3.2.2 Define and award the UNITA microcredential label",
         "orientation": "h",
         "showlegend": true,
         "textposition": "auto",
         "type": "bar",
         "x": [
          110419200000
         ],
         "xaxis": "x",
         "y": [
          "Task 3.2 UNITA Micro-credentials for Lifelong Learning"
         ],
         "yaxis": "y"
        },
        {
         "alignmentgroup": "True",
         "base": [
          "2024-10-01T00:00:00"
         ],
         "hovertemplate": "Activity=A.3.2.3 Develop new microcredentials meeting emerging needs<br>Start=%{base}<br>End=%{x}<br>Task=%{y}<extra></extra>",
         "legendgroup": "A.3.2.3 Develop new microcredentials meeting emerging needs",
         "marker": {
          "color": "#FF6692",
          "pattern": {
           "shape": ""
          }
         },
         "name": "A.3.2.3 Develop new microcredentials meeting emerging needs",
         "offsetgroup": "A.3.2.3 Develop new microcredentials meeting emerging needs",
         "orientation": "h",
         "showlegend": true,
         "textposition": "auto",
         "type": "bar",
         "x": [
          97200000000
         ],
         "xaxis": "x",
         "y": [
          "Task 3.2 UNITA Micro-credentials for Lifelong Learning"
         ],
         "yaxis": "y"
        },
        {
         "alignmentgroup": "True",
         "base": [
          "2024-10-01T00:00:00"
         ],
         "hovertemplate": "Activity=A.3.2.4 Set up the catalogue of UNITA labelled micro-credentials<br>Start=%{base}<br>End=%{x}<br>Task=%{y}<extra></extra>",
         "legendgroup": "A.3.2.4 Set up the catalogue of UNITA labelled micro-credentials",
         "marker": {
          "color": "#B6E880",
          "pattern": {
           "shape": ""
          }
         },
         "name": "A.3.2.4 Set up the catalogue of UNITA labelled micro-credentials",
         "offsetgroup": "A.3.2.4 Set up the catalogue of UNITA labelled micro-credentials",
         "orientation": "h",
         "showlegend": true,
         "textposition": "auto",
         "type": "bar",
         "x": [
          97200000000
         ],
         "xaxis": "x",
         "y": [
          "Task 3.2 UNITA Micro-credentials for Lifelong Learning"
         ],
         "yaxis": "y"
        },
        {
         "alignmentgroup": "True",
         "base": [
          "2024-12-01T00:00:00"
         ],
         "hovertemplate": "Activity=A.3.2.5 Use microcredentials as a contribution to the UNITA financial sustainability<br>Start=%{base}<br>End=%{x}<br>Task=%{y}<extra></extra>",
         "legendgroup": "A.3.2.5 Use microcredentials as a contribution to the UNITA financial sustainability",
         "marker": {
          "color": "#FF97FF",
          "pattern": {
           "shape": ""
          }
         },
         "name": "A.3.2.5 Use microcredentials as a contribution to the UNITA financial sustainability",
         "offsetgroup": "A.3.2.5 Use microcredentials as a contribution to the UNITA financial sustainability",
         "orientation": "h",
         "showlegend": true,
         "textposition": "auto",
         "type": "bar",
         "x": [
          91929600000
         ],
         "xaxis": "x",
         "y": [
          "Task 3.2 UNITA Micro-credentials for Lifelong Learning"
         ],
         "yaxis": "y"
        },
        {
         "alignmentgroup": "True",
         "base": [
          "2023-11-01T00:00:00"
         ],
         "hovertemplate": "Activity=A.3.3.1 Include the new partners of the alliance in the existing UNITA Teaching and Learning Centres Net-work<br>Start=%{base}<br>End=%{x}<br>Task=%{y}<extra></extra>",
         "legendgroup": "A.3.3.1 Include the new partners of the alliance in the existing UNITA Teaching and Learning Centres Net-work",
         "marker": {
          "color": "#FECB52",
          "pattern": {
           "shape": ""
          }
         },
         "name": "A.3.3.1 Include the new partners of the alliance in the existing UNITA Teaching and Learning Centres Net-work",
         "offsetgroup": "A.3.3.1 Include the new partners of the alliance in the existing UNITA Teaching and Learning Centres Net-work",
         "orientation": "h",
         "showlegend": true,
         "textposition": "auto",
         "type": "bar",
         "x": [
          15638400000
         ],
         "xaxis": "x",
         "y": [
          "Task 3.3 UNITA Innovation in teaching & learning initiative"
         ],
         "yaxis": "y"
        },
        {
         "alignmentgroup": "True",
         "base": [
          "2024-04-01T00:00:00"
         ],
         "hovertemplate": "Activity=A.3.3.2 Develop the UNITA teacher training offer<br>Start=%{base}<br>End=%{x}<br>Task=%{y}<extra></extra>",
         "legendgroup": "A.3.3.2 Develop the UNITA teacher training offer",
         "marker": {
          "color": "#636efa",
          "pattern": {
           "shape": ""
          }
         },
         "name": "A.3.3.2 Develop the UNITA teacher training offer",
         "offsetgroup": "A.3.3.2 Develop the UNITA teacher training offer",
         "orientation": "h",
         "showlegend": true,
         "textposition": "auto",
         "type": "bar",
         "x": [
          15724800000
         ],
         "xaxis": "x",
         "y": [
          "Task 3.3 UNITA Innovation in teaching & learning initiative"
         ],
         "yaxis": "y"
        },
        {
         "alignmentgroup": "True",
         "base": [
          "2024-10-01T00:00:00"
         ],
         "hovertemplate": "Activity=A.3.3.3 Implement and test the UNITA teacher training<br>Start=%{base}<br>End=%{x}<br>Task=%{y}<extra></extra>",
         "legendgroup": "A.3.3.3 Implement and test the UNITA teacher training",
         "marker": {
          "color": "#EF553B",
          "pattern": {
           "shape": ""
          }
         },
         "name": "A.3.3.3 Implement and test the UNITA teacher training",
         "offsetgroup": "A.3.3.3 Implement and test the UNITA teacher training",
         "orientation": "h",
         "showlegend": true,
         "textposition": "auto",
         "type": "bar",
         "x": [
          91929600000
         ],
         "xaxis": "x",
         "y": [
          "Task 3.3 UNITA Innovation in teaching & learning initiative"
         ],
         "yaxis": "y"
        },
        {
         "alignmentgroup": "True",
         "base": [
          "2024-01-01T00:00:00"
         ],
         "hovertemplate": "Activity=A.3.3.4 Launch yearly calls on Innovation in Learning & Teaching<br>Start=%{base}<br>End=%{x}<br>Task=%{y}<extra></extra>",
         "legendgroup": "A.3.3.4 Launch yearly calls on Innovation in Learning & Teaching",
         "marker": {
          "color": "#00cc96",
          "pattern": {
           "shape": ""
          }
         },
         "name": "A.3.3.4 Launch yearly calls on Innovation in Learning & Teaching",
         "offsetgroup": "A.3.3.4 Launch yearly calls on Innovation in Learning & Teaching",
         "orientation": "h",
         "showlegend": true,
         "textposition": "auto",
         "type": "bar",
         "x": [
          120873600000
         ],
         "xaxis": "x",
         "y": [
          "Task 3.3 UNITA Innovation in teaching & learning initiative"
         ],
         "yaxis": "y"
        },
        {
         "alignmentgroup": "True",
         "base": [
          "2025-02-01T00:00:00"
         ],
         "hovertemplate": "Activity=A.3.3.5 Develop the UNITA communities of practice<br>Start=%{base}<br>End=%{x}<br>Task=%{y}<extra></extra>",
         "legendgroup": "A.3.3.5 Develop the UNITA communities of practice",
         "marker": {
          "color": "#ab63fa",
          "pattern": {
           "shape": ""
          }
         },
         "name": "A.3.3.5 Develop the UNITA communities of practice",
         "offsetgroup": "A.3.3.5 Develop the UNITA communities of practice",
         "orientation": "h",
         "showlegend": true,
         "textposition": "auto",
         "type": "bar",
         "x": [
          81302400000
         ],
         "xaxis": "x",
         "y": [
          "Task 3.3 UNITA Innovation in teaching & learning initiative"
         ],
         "yaxis": "y"
        },
        {
         "alignmentgroup": "True",
         "base": [
          "2023-11-01T00:00:00"
         ],
         "hovertemplate": "Activity=A.3.4.1 Set up the UNITA inter-university digital campus<br>Start=%{base}<br>End=%{x}<br>Task=%{y}<extra></extra>",
         "legendgroup": "A.3.4.1 Set up the UNITA inter-university digital campus",
         "marker": {
          "color": "#FFA15A",
          "pattern": {
           "shape": ""
          }
         },
         "name": "A.3.4.1 Set up the UNITA inter-university digital campus",
         "offsetgroup": "A.3.4.1 Set up the UNITA inter-university digital campus",
         "orientation": "h",
         "showlegend": true,
         "textposition": "auto",
         "type": "bar",
         "x": [
          15638400000
         ],
         "xaxis": "x",
         "y": [
          "Task 3.4 UNITA Inter-University Digital Campus"
         ],
         "yaxis": "y"
        },
        {
         "alignmentgroup": "True",
         "base": [
          "2024-05-01T00:00:00"
         ],
         "hovertemplate": "Activity=A.3.4.2 Set the specifications of the inter-university digital campus<br>Start=%{base}<br>End=%{x}<br>Task=%{y}<extra></extra>",
         "legendgroup": "A.3.4.2 Set the specifications of the inter-university digital campus",
         "marker": {
          "color": "#19d3f3",
          "pattern": {
           "shape": ""
          }
         },
         "name": "A.3.4.2 Set the specifications of the inter-university digital campus",
         "offsetgroup": "A.3.4.2 Set the specifications of the inter-university digital campus",
         "orientation": "h",
         "showlegend": true,
         "textposition": "auto",
         "type": "bar",
         "x": [
          21168000000
         ],
         "xaxis": "x",
         "y": [
          "Task 3.4 UNITA Inter-University Digital Campus"
         ],
         "yaxis": "y"
        },
        {
         "alignmentgroup": "True",
         "base": [
          "2024-04-01T00:00:00"
         ],
         "hovertemplate": "Activity=A.3.4.3 Implement and test the UNITA inter-university digi-tal campus in a continuous monitoring and follow-up approach<br>Start=%{base}<br>End=%{x}<br>Task=%{y}<extra></extra>",
         "legendgroup": "A.3.4.3 Implement and test the UNITA inter-university digi-tal campus in a continuous monitoring and follow-up approach",
         "marker": {
          "color": "#FF6692",
          "pattern": {
           "shape": ""
          }
         },
         "name": "A.3.4.3 Implement and test the UNITA inter-university digi-tal campus in a continuous monitoring and follow-up approach",
         "offsetgroup": "A.3.4.3 Implement and test the UNITA inter-university digi-tal campus in a continuous monitoring and follow-up approach",
         "orientation": "h",
         "showlegend": true,
         "textposition": "auto",
         "type": "bar",
         "x": [
          113011200000
         ],
         "xaxis": "x",
         "y": [
          "Task 3.4 UNITA Inter-University Digital Campus"
         ],
         "yaxis": "y"
        },
        {
         "alignmentgroup": "True",
         "base": [
          "2023-11-01T00:00:00"
         ],
         "hovertemplate": "Activity=A.4.1.1 Chart the cartography of the smart specialization strategies and ecosystems<br>Start=%{base}<br>End=%{x}<br>Task=%{y}<extra></extra>",
         "legendgroup": "A.4.1.1 Chart the cartography of the smart specialization strategies and ecosystems",
         "marker": {
          "color": "#B6E880",
          "pattern": {
           "shape": ""
          }
         },
         "name": "A.4.1.1 Chart the cartography of the smart specialization strategies and ecosystems",
         "offsetgroup": "A.4.1.1 Chart the cartography of the smart specialization strategies and ecosystems",
         "orientation": "h",
         "showlegend": true,
         "textposition": "auto",
         "type": "bar",
         "x": [
          31536000000
         ],
         "xaxis": "x",
         "y": [
          "Task 4.1 Inter-territorial interfaces for Innovation"
         ],
         "yaxis": "y"
        },
        {
         "alignmentgroup": "True",
         "base": [
          "2024-10-01T00:00:00"
         ],
         "hovertemplate": "Activity=A.4.1.2 Enlarge and reinforce the UNITA entrepreneurship network created in the InnoUNITA project<br>Start=%{base}<br>End=%{x}<br>Task=%{y}<extra></extra>",
         "legendgroup": "A.4.1.2 Enlarge and reinforce the UNITA entrepreneurship network created in the InnoUNITA project",
         "marker": {
          "color": "#FF97FF",
          "pattern": {
           "shape": ""
          }
         },
         "name": "A.4.1.2 Enlarge and reinforce the UNITA entrepreneurship network created in the InnoUNITA project",
         "offsetgroup": "A.4.1.2 Enlarge and reinforce the UNITA entrepreneurship network created in the InnoUNITA project",
         "orientation": "h",
         "showlegend": true,
         "textposition": "auto",
         "type": "bar",
         "x": [
          97200000000
         ],
         "xaxis": "x",
         "y": [
          "Task 4.1 Inter-territorial interfaces for Innovation"
         ],
         "yaxis": "y"
        },
        {
         "alignmentgroup": "True",
         "base": [
          "2024-10-01T00:00:00"
         ],
         "hovertemplate": "Activity=A.4.1.3 Build an industry-driven and challenge-based teaching and learning network<br>Start=%{base}<br>End=%{x}<br>Task=%{y}<extra></extra>",
         "legendgroup": "A.4.1.3 Build an industry-driven and challenge-based teaching and learning network",
         "marker": {
          "color": "#FECB52",
          "pattern": {
           "shape": ""
          }
         },
         "name": "A.4.1.3 Build an industry-driven and challenge-based teaching and learning network",
         "offsetgroup": "A.4.1.3 Build an industry-driven and challenge-based teaching and learning network",
         "orientation": "h",
         "showlegend": true,
         "textposition": "auto",
         "type": "bar",
         "x": [
          97200000000
         ],
         "xaxis": "x",
         "y": [
          "Task 4.1 Inter-territorial interfaces for Innovation"
         ],
         "yaxis": "y"
        },
        {
         "alignmentgroup": "True",
         "base": [
          "2024-10-01T00:00:00"
         ],
         "hovertemplate": "Activity=A.4.1.4 Create a tech transfer offices network<br>Start=%{base}<br>End=%{x}<br>Task=%{y}<extra></extra>",
         "legendgroup": "A.4.1.4 Create a tech transfer offices network",
         "marker": {
          "color": "#636efa",
          "pattern": {
           "shape": ""
          }
         },
         "name": "A.4.1.4 Create a tech transfer offices network",
         "offsetgroup": "A.4.1.4 Create a tech transfer offices network",
         "orientation": "h",
         "showlegend": true,
         "textposition": "auto",
         "type": "bar",
         "x": [
          97200000000
         ],
         "xaxis": "x",
         "y": [
          "Task 4.1 Inter-territorial interfaces for Innovation"
         ],
         "yaxis": "y"
        },
        {
         "alignmentgroup": "True",
         "base": [
          "2024-10-01T00:00:00"
         ],
         "hovertemplate": "Activity=A.4.1.5 Enlarge and reinforce the UNITA science dissemination community<br>Start=%{base}<br>End=%{x}<br>Task=%{y}<extra></extra>",
         "legendgroup": "A.4.1.5 Enlarge and reinforce the UNITA science dissemination community",
         "marker": {
          "color": "#EF553B",
          "pattern": {
           "shape": ""
          }
         },
         "name": "A.4.1.5 Enlarge and reinforce the UNITA science dissemination community",
         "offsetgroup": "A.4.1.5 Enlarge and reinforce the UNITA science dissemination community",
         "orientation": "h",
         "showlegend": true,
         "textposition": "auto",
         "type": "bar",
         "x": [
          97200000000
         ],
         "xaxis": "x",
         "y": [
          "Task 4.1 Inter-territorial interfaces for Innovation"
         ],
         "yaxis": "y"
        },
        {
         "alignmentgroup": "True",
         "base": [
          "2023-11-01T00:00:00"
         ],
         "hovertemplate": "Activity=A.4.2.1 Evolve and update the researchers cartography<br>Start=%{base}<br>End=%{x}<br>Task=%{y}<extra></extra>",
         "legendgroup": "A.4.2.1 Evolve and update the researchers cartography",
         "marker": {
          "color": "#00cc96",
          "pattern": {
           "shape": ""
          }
         },
         "name": "A.4.2.1 Evolve and update the researchers cartography",
         "offsetgroup": "A.4.2.1 Evolve and update the researchers cartography",
         "orientation": "h",
         "showlegend": true,
         "textposition": "auto",
         "type": "bar",
         "x": [
          20908800000
         ],
         "xaxis": "x",
         "y": [
          "Task 4.2 Thematic Research Hubs"
         ],
         "yaxis": "y"
        },
        {
         "alignmentgroup": "True",
         "base": [
          "2024-05-01T00:00:00"
         ],
         "hovertemplate": "Activity=A.4.2.2 Design, implement and deploy the new hubs and reinforce the existing ones<br>Start=%{base}<br>End=%{x}<br>Task=%{y}<extra></extra>",
         "legendgroup": "A.4.2.2 Design, implement and deploy the new hubs and reinforce the existing ones",
         "marker": {
          "color": "#ab63fa",
          "pattern": {
           "shape": ""
          }
         },
         "name": "A.4.2.2 Design, implement and deploy the new hubs and reinforce the existing ones",
         "offsetgroup": "A.4.2.2 Design, implement and deploy the new hubs and reinforce the existing ones",
         "orientation": "h",
         "showlegend": true,
         "textposition": "auto",
         "type": "bar",
         "x": [
          78883200000
         ],
         "xaxis": "x",
         "y": [
          "Task 4.2 Thematic Research Hubs"
         ],
         "yaxis": "y"
        },
        {
         "alignmentgroup": "True",
         "base": [
          "2024-11-01T00:00:00"
         ],
         "hovertemplate": "Activity=A.4.2.3 Develop common principles, rules, and procedures informing UNITA Open Science research policy<br>Start=%{base}<br>End=%{x}<br>Task=%{y}<extra></extra>",
         "legendgroup": "A.4.2.3 Develop common principles, rules, and procedures informing UNITA Open Science research policy",
         "marker": {
          "color": "#FFA15A",
          "pattern": {
           "shape": ""
          }
         },
         "name": "A.4.2.3 Develop common principles, rules, and procedures informing UNITA Open Science research policy",
         "offsetgroup": "A.4.2.3 Develop common principles, rules, and procedures informing UNITA Open Science research policy",
         "orientation": "h",
         "showlegend": true,
         "textposition": "auto",
         "type": "bar",
         "x": [
          94521600000
         ],
         "xaxis": "x",
         "y": [
          "Task 4.2 Thematic Research Hubs"
         ],
         "yaxis": "y"
        },
        {
         "alignmentgroup": "True",
         "base": [
          "2026-11-01T00:00:00"
         ],
         "hovertemplate": "Activity=A.4.2.4 Evolve this common basic organization into more institutionalized international research centres<br>Start=%{base}<br>End=%{x}<br>Task=%{y}<extra></extra>",
         "legendgroup": "A.4.2.4 Evolve this common basic organization into more institutionalized international research centres",
         "marker": {
          "color": "#19d3f3",
          "pattern": {
           "shape": ""
          }
         },
         "name": "A.4.2.4 Evolve this common basic organization into more institutionalized international research centres",
         "offsetgroup": "A.4.2.4 Evolve this common basic organization into more institutionalized international research centres",
         "orientation": "h",
         "showlegend": true,
         "textposition": "auto",
         "type": "bar",
         "x": [
          31449600000
         ],
         "xaxis": "x",
         "y": [
          "Task 4.2 Thematic Research Hubs"
         ],
         "yaxis": "y"
        },
        {
         "alignmentgroup": "True",
         "base": [
          "2023-11-01T00:00:00"
         ],
         "hovertemplate": "Activity=A.4.3.1 Complete and update the mapping of partners infrastructures and related services developed by Re-UNITA<br>Start=%{base}<br>End=%{x}<br>Task=%{y}<extra></extra>",
         "legendgroup": "A.4.3.1 Complete and update the mapping of partners infrastructures and related services developed by Re-UNITA",
         "marker": {
          "color": "#FF6692",
          "pattern": {
           "shape": ""
          }
         },
         "name": "A.4.3.1 Complete and update the mapping of partners infrastructures and related services developed by Re-UNITA",
         "offsetgroup": "A.4.3.1 Complete and update the mapping of partners infrastructures and related services developed by Re-UNITA",
         "orientation": "h",
         "showlegend": true,
         "textposition": "auto",
         "type": "bar",
         "x": [
          31536000000
         ],
         "xaxis": "x",
         "y": [
          "Task 4.3 Sharing of infrastructures and Knowledge"
         ],
         "yaxis": "y"
        },
        {
         "alignmentgroup": "True",
         "base": [
          "2024-03-01T00:00:00"
         ],
         "hovertemplate": "Activity=A.4.3.2 Consolidate the model for sharing research infrastructures and services, based on a decentralized management and Open Data approaches<br>Start=%{base}<br>End=%{x}<br>Task=%{y}<extra></extra>",
         "legendgroup": "A.4.3.2 Consolidate the model for sharing research infrastructures and services, based on a decentralized management and Open Data approaches",
         "marker": {
          "color": "#B6E880",
          "pattern": {
           "shape": ""
          }
         },
         "name": "A.4.3.2 Consolidate the model for sharing research infrastructures and services, based on a decentralized management and Open Data approaches",
         "offsetgroup": "A.4.3.2 Consolidate the model for sharing research infrastructures and services, based on a decentralized management and Open Data approaches",
         "orientation": "h",
         "showlegend": true,
         "textposition": "auto",
         "type": "bar",
         "x": [
          29030400000
         ],
         "xaxis": "x",
         "y": [
          "Task 4.3 Sharing of infrastructures and Knowledge"
         ],
         "yaxis": "y"
        },
        {
         "alignmentgroup": "True",
         "base": [
          "2024-11-01T00:00:00"
         ],
         "hovertemplate": "Activity=A.4.3.3 Launch regular calls to co-finance access to infrastructures<br>Start=%{base}<br>End=%{x}<br>Task=%{y}<extra></extra>",
         "legendgroup": "A.4.3.3 Launch regular calls to co-finance access to infrastructures",
         "marker": {
          "color": "#FF97FF",
          "pattern": {
           "shape": ""
          }
         },
         "name": "A.4.3.3 Launch regular calls to co-finance access to infrastructures",
         "offsetgroup": "A.4.3.3 Launch regular calls to co-finance access to infrastructures",
         "orientation": "h",
         "showlegend": true,
         "textposition": "auto",
         "type": "bar",
         "x": [
          94521600000
         ],
         "xaxis": "x",
         "y": [
          "Task 4.3 Sharing of infrastructures and Knowledge"
         ],
         "yaxis": "y"
        },
        {
         "alignmentgroup": "True",
         "base": [
          "2024-11-01T00:00:00"
         ],
         "hovertemplate": "Activity=A.4.3.4 Assess the necessary system modifications<br>Start=%{base}<br>End=%{x}<br>Task=%{y}<extra></extra>",
         "legendgroup": "A.4.3.4 Assess the necessary system modifications",
         "marker": {
          "color": "#FECB52",
          "pattern": {
           "shape": ""
          }
         },
         "name": "A.4.3.4 Assess the necessary system modifications",
         "offsetgroup": "A.4.3.4 Assess the necessary system modifications",
         "orientation": "h",
         "showlegend": true,
         "textposition": "auto",
         "type": "bar",
         "x": [
          62985600000
         ],
         "xaxis": "x",
         "y": [
          "Task 4.3 Sharing of infrastructures and Knowledge"
         ],
         "yaxis": "y"
        },
        {
         "alignmentgroup": "True",
         "base": [
          "2026-11-01T00:00:00"
         ],
         "hovertemplate": "Activity=A.4.3.5 Enhance the system by adapting necessary changes and intensifying the sharing of services and infrastructures<br>Start=%{base}<br>End=%{x}<br>Task=%{y}<extra></extra>",
         "legendgroup": "A.4.3.5 Enhance the system by adapting necessary changes and intensifying the sharing of services and infrastructures",
         "marker": {
          "color": "#636efa",
          "pattern": {
           "shape": ""
          }
         },
         "name": "A.4.3.5 Enhance the system by adapting necessary changes and intensifying the sharing of services and infrastructures",
         "offsetgroup": "A.4.3.5 Enhance the system by adapting necessary changes and intensifying the sharing of services and infrastructures",
         "orientation": "h",
         "showlegend": true,
         "textposition": "auto",
         "type": "bar",
         "x": [
          31449600000
         ],
         "xaxis": "x",
         "y": [
          "Task 4.3 Sharing of infrastructures and Knowledge"
         ],
         "yaxis": "y"
        },
        {
         "alignmentgroup": "True",
         "base": [
          "2023-11-01T00:00:00"
         ],
         "hovertemplate": "Activity=A.4.4.1 Collect and chart current master and doctoral training activities<br>Start=%{base}<br>End=%{x}<br>Task=%{y}<extra></extra>",
         "legendgroup": "A.4.4.1 Collect and chart current master and doctoral training activities",
         "marker": {
          "color": "#EF553B",
          "pattern": {
           "shape": ""
          }
         },
         "name": "A.4.4.1 Collect and chart current master and doctoral training activities",
         "offsetgroup": "A.4.4.1 Collect and chart current master and doctoral training activities",
         "orientation": "h",
         "showlegend": true,
         "textposition": "auto",
         "type": "bar",
         "x": [
          23587200000
         ],
         "xaxis": "x",
         "y": [
          "Task 4.4 UNITA Graduate Schools in alliance focus areas"
         ],
         "yaxis": "y"
        },
        {
         "alignmentgroup": "True",
         "base": [
          "2024-03-01T00:00:00"
         ],
         "hovertemplate": "Activity=A.4.4.2 Define standards for the eligibility of learning programmes for the UGS<br>Start=%{base}<br>End=%{x}<br>Task=%{y}<extra></extra>",
         "legendgroup": "A.4.4.2 Define standards for the eligibility of learning programmes for the UGS",
         "marker": {
          "color": "#00cc96",
          "pattern": {
           "shape": ""
          }
         },
         "name": "A.4.4.2 Define standards for the eligibility of learning programmes for the UGS",
         "offsetgroup": "A.4.4.2 Define standards for the eligibility of learning programmes for the UGS",
         "orientation": "h",
         "showlegend": true,
         "textposition": "auto",
         "type": "bar",
         "x": [
          29030400000
         ],
         "xaxis": "x",
         "y": [
          "Task 4.4 UNITA Graduate Schools in alliance focus areas"
         ],
         "yaxis": "y"
        },
        {
         "alignmentgroup": "True",
         "base": [
          "2024-10-01T00:00:00"
         ],
         "hovertemplate": "Activity=A.4.4.3 Progressively implement the UGS in the UNITA focus areas<br>Start=%{base}<br>End=%{x}<br>Task=%{y}<extra></extra>",
         "legendgroup": "A.4.4.3 Progressively implement the UGS in the UNITA focus areas",
         "marker": {
          "color": "#ab63fa",
          "pattern": {
           "shape": ""
          }
         },
         "name": "A.4.4.3 Progressively implement the UGS in the UNITA focus areas",
         "offsetgroup": "A.4.4.3 Progressively implement the UGS in the UNITA focus areas",
         "orientation": "h",
         "showlegend": true,
         "textposition": "auto",
         "type": "bar",
         "x": [
          97200000000
         ],
         "xaxis": "x",
         "y": [
          "Task 4.4 UNITA Graduate Schools in alliance focus areas"
         ],
         "yaxis": "y"
        },
        {
         "alignmentgroup": "True",
         "base": [
          "2023-11-01T00:00:00"
         ],
         "hovertemplate": "Activity=A.5.1.1 Chart current practices of communication and dissemination<br>Start=%{base}<br>End=%{x}<br>Task=%{y}<extra></extra>",
         "legendgroup": "A.5.1.1 Chart current practices of communication and dissemination",
         "marker": {
          "color": "#FFA15A",
          "pattern": {
           "shape": ""
          }
         },
         "name": "A.5.1.1 Chart current practices of communication and dissemination",
         "offsetgroup": "A.5.1.1 Chart current practices of communication and dissemination",
         "orientation": "h",
         "showlegend": true,
         "textposition": "auto",
         "type": "bar",
         "x": [
          10281600000
         ],
         "xaxis": "x",
         "y": [
          "Task 5.1 External dissemination and public engagement"
         ],
         "yaxis": "y"
        },
        {
         "alignmentgroup": "True",
         "base": [
          "2024-03-01T00:00:00"
         ],
         "hovertemplate": "Activity=A.5.1.2 Create a map of stakeholders<br>Start=%{base}<br>End=%{x}<br>Task=%{y}<extra></extra>",
         "legendgroup": "A.5.1.2 Create a map of stakeholders",
         "marker": {
          "color": "#19d3f3",
          "pattern": {
           "shape": ""
          }
         },
         "name": "A.5.1.2 Create a map of stakeholders",
         "offsetgroup": "A.5.1.2 Create a map of stakeholders",
         "orientation": "h",
         "showlegend": true,
         "textposition": "auto",
         "type": "bar",
         "x": [
          21081600000
         ],
         "xaxis": "x",
         "y": [
          "Task 5.1 External dissemination and public engagement"
         ],
         "yaxis": "y"
        },
        {
         "alignmentgroup": "True",
         "base": [
          "2024-02-01T00:00:00"
         ],
         "hovertemplate": "Activity=A.5.1.3 Update the UNITA Communication Plan<br>Start=%{base}<br>End=%{x}<br>Task=%{y}<extra></extra>",
         "legendgroup": "A.5.1.3 Update the UNITA Communication Plan",
         "marker": {
          "color": "#FF6692",
          "pattern": {
           "shape": ""
          }
         },
         "name": "A.5.1.3 Update the UNITA Communication Plan",
         "offsetgroup": "A.5.1.3 Update the UNITA Communication Plan",
         "orientation": "h",
         "showlegend": true,
         "textposition": "auto",
         "type": "bar",
         "x": [
          18316800000
         ],
         "xaxis": "x",
         "y": [
          "Task 5.1 External dissemination and public engagement"
         ],
         "yaxis": "y"
        },
        {
         "alignmentgroup": "True",
         "base": [
          "2024-02-01T00:00:00"
         ],
         "hovertemplate": "Activity=A.5.1.4 Implement and test the Communication Plan<br>Start=%{base}<br>End=%{x}<br>Task=%{y}<extra></extra>",
         "legendgroup": "A.5.1.4 Implement and test the Communication Plan",
         "marker": {
          "color": "#B6E880",
          "pattern": {
           "shape": ""
          }
         },
         "name": "A.5.1.4 Implement and test the Communication Plan",
         "offsetgroup": "A.5.1.4 Implement and test the Communication Plan",
         "orientation": "h",
         "showlegend": true,
         "textposition": "auto",
         "type": "bar",
         "x": [
          118195200000
         ],
         "xaxis": "x",
         "y": [
          "Task 5.1 External dissemination and public engagement"
         ],
         "yaxis": "y"
        },
        {
         "alignmentgroup": "True",
         "base": [
          "2024-10-01T00:00:00"
         ],
         "hovertemplate": "Activity=A.5.1.5 Contribute to increasing the sense of belonging to UNITA of our university communities<br>Start=%{base}<br>End=%{x}<br>Task=%{y}<extra></extra>",
         "legendgroup": "A.5.1.5 Contribute to increasing the sense of belonging to UNITA of our university communities",
         "marker": {
          "color": "#FF97FF",
          "pattern": {
           "shape": ""
          }
         },
         "name": "A.5.1.5 Contribute to increasing the sense of belonging to UNITA of our university communities",
         "offsetgroup": "A.5.1.5 Contribute to increasing the sense of belonging to UNITA of our university communities",
         "orientation": "h",
         "showlegend": true,
         "textposition": "auto",
         "type": "bar",
         "x": [
          97200000000
         ],
         "xaxis": "x",
         "y": [
          "Task 5.1 External dissemination and public engagement"
         ],
         "yaxis": "y"
        },
        {
         "alignmentgroup": "True",
         "base": [
          "2023-11-01T00:00:00"
         ],
         "hovertemplate": "Activity=A.5.2.1 Update the UNITA Sustainability Plan<br>Start=%{base}<br>End=%{x}<br>Task=%{y}<extra></extra>",
         "legendgroup": "A.5.2.1 Update the UNITA Sustainability Plan",
         "marker": {
          "color": "#FECB52",
          "pattern": {
           "shape": ""
          }
         },
         "name": "A.5.2.1 Update the UNITA Sustainability Plan",
         "offsetgroup": "A.5.2.1 Update the UNITA Sustainability Plan",
         "orientation": "h",
         "showlegend": true,
         "textposition": "auto",
         "type": "bar",
         "x": [
          15638400000
         ],
         "xaxis": "x",
         "y": [
          "Task 5.2 Financial sustainability"
         ],
         "yaxis": "y"
        },
        {
         "alignmentgroup": "True",
         "base": [
          "2023-11-01T00:00:00"
         ],
         "hovertemplate": "Activity=A.5.2.2 Define the economic model and common financial methodology<br>Start=%{base}<br>End=%{x}<br>Task=%{y}<extra></extra>",
         "legendgroup": "A.5.2.2 Define the economic model and common financial methodology",
         "marker": {
          "color": "#636efa",
          "pattern": {
           "shape": ""
          }
         },
         "name": "A.5.2.2 Define the economic model and common financial methodology",
         "offsetgroup": "A.5.2.2 Define the economic model and common financial methodology",
         "orientation": "h",
         "showlegend": true,
         "textposition": "auto",
         "type": "bar",
         "x": [
          26265600000
         ],
         "xaxis": "x",
         "y": [
          "Task 5.2 Financial sustainability"
         ],
         "yaxis": "y"
        },
        {
         "alignmentgroup": "True",
         "base": [
          "2024-09-01T00:00:00"
         ],
         "hovertemplate": "Activity=A.5.2.3 Set up and run the UNITA Project Engine Office<br>Start=%{base}<br>End=%{x}<br>Task=%{y}<extra></extra>",
         "legendgroup": "A.5.2.3 Set up and run the UNITA Project Engine Office",
         "marker": {
          "color": "#EF553B",
          "pattern": {
           "shape": ""
          }
         },
         "name": "A.5.2.3 Set up and run the UNITA Project Engine Office",
         "offsetgroup": "A.5.2.3 Set up and run the UNITA Project Engine Office",
         "orientation": "h",
         "showlegend": true,
         "textposition": "auto",
         "type": "bar",
         "x": [
          99792000000
         ],
         "xaxis": "x",
         "y": [
          "Task 5.2 Financial sustainability"
         ],
         "yaxis": "y"
        },
        {
         "alignmentgroup": "True",
         "base": [
          "2024-11-01T00:00:00"
         ],
         "hovertemplate": "Activity=A.5.2.4 Implement the UNITA Sustainability Plan and refine the common financial methodology<br>Start=%{base}<br>End=%{x}<br>Task=%{y}<extra></extra>",
         "legendgroup": "A.5.2.4 Implement the UNITA Sustainability Plan and refine the common financial methodology",
         "marker": {
          "color": "#00cc96",
          "pattern": {
           "shape": ""
          }
         },
         "name": "A.5.2.4 Implement the UNITA Sustainability Plan and refine the common financial methodology",
         "offsetgroup": "A.5.2.4 Implement the UNITA Sustainability Plan and refine the common financial methodology",
         "orientation": "h",
         "showlegend": true,
         "textposition": "auto",
         "type": "bar",
         "x": [
          47088000000
         ],
         "xaxis": "x",
         "y": [
          "Task 5.2 Financial sustainability"
         ],
         "yaxis": "y"
        },
        {
         "alignmentgroup": "True",
         "base": [
          "2023-11-01T00:00:00"
         ],
         "hovertemplate": "Activity=A.5.3.1 Create the general framework of the green sustainability approach for UNITA actions<br>Start=%{base}<br>End=%{x}<br>Task=%{y}<extra></extra>",
         "legendgroup": "A.5.3.1 Create the general framework of the green sustainability approach for UNITA actions",
         "marker": {
          "color": "#ab63fa",
          "pattern": {
           "shape": ""
          }
         },
         "name": "A.5.3.1 Create the general framework of the green sustainability approach for UNITA actions",
         "offsetgroup": "A.5.3.1 Create the general framework of the green sustainability approach for UNITA actions",
         "orientation": "h",
         "showlegend": true,
         "textposition": "auto",
         "type": "bar",
         "x": [
          15638400000
         ],
         "xaxis": "x",
         "y": [
          "Task 5.3 Green sustainability"
         ],
         "yaxis": "y"
        },
        {
         "alignmentgroup": "True",
         "base": [
          "2024-05-01T00:00:00"
         ],
         "hovertemplate": "Activity=A.5.3.2 Design the UNITA Green Sustainability Action Plan<br>Start=%{base}<br>End=%{x}<br>Task=%{y}<extra></extra>",
         "legendgroup": "A.5.3.2 Design the UNITA Green Sustainability Action Plan",
         "marker": {
          "color": "#FFA15A",
          "pattern": {
           "shape": ""
          }
         },
         "name": "A.5.3.2 Design the UNITA Green Sustainability Action Plan",
         "offsetgroup": "A.5.3.2 Design the UNITA Green Sustainability Action Plan",
         "orientation": "h",
         "showlegend": true,
         "textposition": "auto",
         "type": "bar",
         "x": [
          15811200000
         ],
         "xaxis": "x",
         "y": [
          "Task 5.3 Green sustainability"
         ],
         "yaxis": "y"
        },
        {
         "alignmentgroup": "True",
         "base": [
          "2024-10-01T00:00:00"
         ],
         "hovertemplate": "Activity=A.5.3.3 Introduce sustainability topics into the stu-dents’ curricula<br>Start=%{base}<br>End=%{x}<br>Task=%{y}<extra></extra>",
         "legendgroup": "A.5.3.3 Introduce sustainability topics into the stu-dents’ curricula",
         "marker": {
          "color": "#19d3f3",
          "pattern": {
           "shape": ""
          }
         },
         "name": "A.5.3.3 Introduce sustainability topics into the stu-dents’ curricula",
         "offsetgroup": "A.5.3.3 Introduce sustainability topics into the stu-dents’ curricula",
         "orientation": "h",
         "showlegend": true,
         "textposition": "auto",
         "type": "bar",
         "x": [
          97200000000
         ],
         "xaxis": "x",
         "y": [
          "Task 5.3 Green sustainability"
         ],
         "yaxis": "y"
        },
        {
         "alignmentgroup": "True",
         "base": [
          "2024-10-01T00:00:00"
         ],
         "hovertemplate": "Activity=A.5.3.4 Promote green mobility<br>Start=%{base}<br>End=%{x}<br>Task=%{y}<extra></extra>",
         "legendgroup": "A.5.3.4 Promote green mobility",
         "marker": {
          "color": "#FF6692",
          "pattern": {
           "shape": ""
          }
         },
         "name": "A.5.3.4 Promote green mobility",
         "offsetgroup": "A.5.3.4 Promote green mobility",
         "orientation": "h",
         "showlegend": true,
         "textposition": "auto",
         "type": "bar",
         "x": [
          97200000000
         ],
         "xaxis": "x",
         "y": [
          "Task 5.3 Green sustainability"
         ],
         "yaxis": "y"
        },
        {
         "alignmentgroup": "True",
         "base": [
          "2024-10-01T00:00:00"
         ],
         "hovertemplate": "Activity=A.5.3.5 Create a culture of sustainability<br>Start=%{base}<br>End=%{x}<br>Task=%{y}<extra></extra>",
         "legendgroup": "A.5.3.5 Create a culture of sustainability",
         "marker": {
          "color": "#B6E880",
          "pattern": {
           "shape": ""
          }
         },
         "name": "A.5.3.5 Create a culture of sustainability",
         "offsetgroup": "A.5.3.5 Create a culture of sustainability",
         "orientation": "h",
         "showlegend": true,
         "textposition": "auto",
         "type": "bar",
         "x": [
          97200000000
         ],
         "xaxis": "x",
         "y": [
          "Task 5.3 Green sustainability"
         ],
         "yaxis": "y"
        },
        {
         "alignmentgroup": "True",
         "base": [
          "2023-11-01T00:00:00"
         ],
         "hovertemplate": "Activity=A.5.4.1 Identify the methods for impact measurement<br>Start=%{base}<br>End=%{x}<br>Task=%{y}<extra></extra>",
         "legendgroup": "A.5.4.1 Identify the methods for impact measurement",
         "marker": {
          "color": "#FF97FF",
          "pattern": {
           "shape": ""
          }
         },
         "name": "A.5.4.1 Identify the methods for impact measurement",
         "offsetgroup": "A.5.4.1 Identify the methods for impact measurement",
         "orientation": "h",
         "showlegend": true,
         "textposition": "auto",
         "type": "bar",
         "x": [
          15638400000
         ],
         "xaxis": "x",
         "y": [
          "Task 5.4 Impact Observatory"
         ],
         "yaxis": "y"
        },
        {
         "alignmentgroup": "True",
         "base": [
          "2024-04-01T00:00:00"
         ],
         "hovertemplate": "Activity=A.5.4.2 Design methodology, data collection and interfaces dashboard principles<br>Start=%{base}<br>End=%{x}<br>Task=%{y}<extra></extra>",
         "legendgroup": "A.5.4.2 Design methodology, data collection and interfaces dashboard principles",
         "marker": {
          "color": "#FECB52",
          "pattern": {
           "shape": ""
          }
         },
         "name": "A.5.4.2 Design methodology, data collection and interfaces dashboard principles",
         "offsetgroup": "A.5.4.2 Design methodology, data collection and interfaces dashboard principles",
         "orientation": "h",
         "showlegend": true,
         "textposition": "auto",
         "type": "bar",
         "x": [
          18403200000
         ],
         "xaxis": "x",
         "y": [
          "Task 5.4 Impact Observatory"
         ],
         "yaxis": "y"
        },
        {
         "alignmentgroup": "True",
         "base": [
          "2024-10-01T00:00:00"
         ],
         "hovertemplate": "Activity=A.5.4.3 Implement and test first series of impact measurement<br>Start=%{base}<br>End=%{x}<br>Task=%{y}<extra></extra>",
         "legendgroup": "A.5.4.3 Implement and test first series of impact measurement",
         "marker": {
          "color": "#636efa",
          "pattern": {
           "shape": ""
          }
         },
         "name": "A.5.4.3 Implement and test first series of impact measurement",
         "offsetgroup": "A.5.4.3 Implement and test first series of impact measurement",
         "orientation": "h",
         "showlegend": true,
         "textposition": "auto",
         "type": "bar",
         "x": [
          34128000000
         ],
         "xaxis": "x",
         "y": [
          "Task 5.4 Impact Observatory"
         ],
         "yaxis": "y"
        },
        {
         "alignmentgroup": "True",
         "base": [
          "2025-04-01T00:00:00"
         ],
         "hovertemplate": "Activity=A.5.4.4 Collect and assest feedback from target group and stakeholders<br>Start=%{base}<br>End=%{x}<br>Task=%{y}<extra></extra>",
         "legendgroup": "A.5.4.4 Collect and assest feedback from target group and stakeholders",
         "marker": {
          "color": "#EF553B",
          "pattern": {
           "shape": ""
          }
         },
         "name": "A.5.4.4 Collect and assest feedback from target group and stakeholders",
         "offsetgroup": "A.5.4.4 Collect and assest feedback from target group and stakeholders",
         "orientation": "h",
         "showlegend": true,
         "textposition": "auto",
         "type": "bar",
         "x": [
          34041600000
         ],
         "xaxis": "x",
         "y": [
          "Task 5.4 Impact Observatory"
         ],
         "yaxis": "y"
        },
        {
         "alignmentgroup": "True",
         "base": [
          "2025-10-01T00:00:00"
         ],
         "hovertemplate": "Activity=A.5.4.5 Intensify and widen the impact measurement methodology to all strategies<br>Start=%{base}<br>End=%{x}<br>Task=%{y}<extra></extra>",
         "legendgroup": "A.5.4.5 Intensify and widen the impact measurement methodology to all strategies",
         "marker": {
          "color": "#00cc96",
          "pattern": {
           "shape": ""
          }
         },
         "name": "A.5.4.5 Intensify and widen the impact measurement methodology to all strategies",
         "offsetgroup": "A.5.4.5 Intensify and widen the impact measurement methodology to all strategies",
         "orientation": "h",
         "showlegend": true,
         "textposition": "auto",
         "type": "bar",
         "x": [
          65664000000
         ],
         "xaxis": "x",
         "y": [
          "Task 5.4 Impact Observatory"
         ],
         "yaxis": "y"
        },
        {
         "alignmentgroup": "True",
         "base": [
          "2023-11-01T00:00:00"
         ],
         "hovertemplate": "Activity=A.5.5.1 Introduce the new partners to the UNITA international network<br>Start=%{base}<br>End=%{x}<br>Task=%{y}<extra></extra>",
         "legendgroup": "A.5.5.1 Introduce the new partners to the UNITA international network",
         "marker": {
          "color": "#ab63fa",
          "pattern": {
           "shape": ""
          }
         },
         "name": "A.5.5.1 Introduce the new partners to the UNITA international network",
         "offsetgroup": "A.5.5.1 Introduce the new partners to the UNITA international network",
         "orientation": "h",
         "showlegend": true,
         "textposition": "auto",
         "type": "bar",
         "x": [
          31536000000
         ],
         "xaxis": "x",
         "y": [
          "Task 5.5 Expanding UNITA in Europe and beyond"
         ],
         "yaxis": "y"
        },
        {
         "alignmentgroup": "True",
         "base": [
          "2024-11-01T00:00:00"
         ],
         "hovertemplate": "Activity=A.5.5.2 Enhance the GEMINAE network<br>Start=%{base}<br>End=%{x}<br>Task=%{y}<extra></extra>",
         "legendgroup": "A.5.5.2 Enhance the GEMINAE network",
         "marker": {
          "color": "#FFA15A",
          "pattern": {
           "shape": ""
          }
         },
         "name": "A.5.5.2 Enhance the GEMINAE network",
         "offsetgroup": "A.5.5.2 Enhance the GEMINAE network",
         "orientation": "h",
         "showlegend": true,
         "textposition": "auto",
         "type": "bar",
         "x": [
          94521600000
         ],
         "xaxis": "x",
         "y": [
          "Task 5.5 Expanding UNITA in Europe and beyond"
         ],
         "yaxis": "y"
        },
        {
         "alignmentgroup": "True",
         "base": [
          "2024-11-01T00:00:00"
         ],
         "hovertemplate": "Activity=A.5.5.3 Participate and organize inter-alliance events<br>Start=%{base}<br>End=%{x}<br>Task=%{y}<extra></extra>",
         "legendgroup": "A.5.5.3 Participate and organize inter-alliance events",
         "marker": {
          "color": "#19d3f3",
          "pattern": {
           "shape": ""
          }
         },
         "name": "A.5.5.3 Participate and organize inter-alliance events",
         "offsetgroup": "A.5.5.3 Participate and organize inter-alliance events",
         "orientation": "h",
         "showlegend": true,
         "textposition": "auto",
         "type": "bar",
         "x": [
          94521600000
         ],
         "xaxis": "x",
         "y": [
          "Task 5.5 Expanding UNITA in Europe and beyond"
         ],
         "yaxis": "y"
        },
        {
         "alignmentgroup": "True",
         "base": [
          "2025-11-01T00:00:00"
         ],
         "hovertemplate": "Activity=A.5.5.4 Collect and assess feedback from target groups and end-users<br>Start=%{base}<br>End=%{x}<br>Task=%{y}<extra></extra>",
         "legendgroup": "A.5.5.4 Collect and assess feedback from target groups and end-users",
         "marker": {
          "color": "#FF6692",
          "pattern": {
           "shape": ""
          }
         },
         "name": "A.5.5.4 Collect and assess feedback from target groups and end-users",
         "offsetgroup": "A.5.5.4 Collect and assess feedback from target groups and end-users",
         "orientation": "h",
         "showlegend": true,
         "textposition": "auto",
         "type": "bar",
         "x": [
          62985600000
         ],
         "xaxis": "x",
         "y": [
          "Task 5.5 Expanding UNITA in Europe and beyond"
         ],
         "yaxis": "y"
        }
       ],
       "layout": {
        "barmode": "overlay",
        "legend": {
         "title": {
          "text": "Activity"
         },
         "tracegroupgap": 0
        },
        "showlegend": false,
        "template": {
         "data": {
          "bar": [
           {
            "error_x": {
             "color": "#2a3f5f"
            },
            "error_y": {
             "color": "#2a3f5f"
            },
            "marker": {
             "line": {
              "color": "#E5ECF6",
              "width": 0.5
             },
             "pattern": {
              "fillmode": "overlay",
              "size": 10,
              "solidity": 0.2
             }
            },
            "type": "bar"
           }
          ],
          "barpolar": [
           {
            "marker": {
             "line": {
              "color": "#E5ECF6",
              "width": 0.5
             },
             "pattern": {
              "fillmode": "overlay",
              "size": 10,
              "solidity": 0.2
             }
            },
            "type": "barpolar"
           }
          ],
          "carpet": [
           {
            "aaxis": {
             "endlinecolor": "#2a3f5f",
             "gridcolor": "white",
             "linecolor": "white",
             "minorgridcolor": "white",
             "startlinecolor": "#2a3f5f"
            },
            "baxis": {
             "endlinecolor": "#2a3f5f",
             "gridcolor": "white",
             "linecolor": "white",
             "minorgridcolor": "white",
             "startlinecolor": "#2a3f5f"
            },
            "type": "carpet"
           }
          ],
          "choropleth": [
           {
            "colorbar": {
             "outlinewidth": 0,
             "ticks": ""
            },
            "type": "choropleth"
           }
          ],
          "contour": [
           {
            "colorbar": {
             "outlinewidth": 0,
             "ticks": ""
            },
            "colorscale": [
             [
              0,
              "#0d0887"
             ],
             [
              0.1111111111111111,
              "#46039f"
             ],
             [
              0.2222222222222222,
              "#7201a8"
             ],
             [
              0.3333333333333333,
              "#9c179e"
             ],
             [
              0.4444444444444444,
              "#bd3786"
             ],
             [
              0.5555555555555556,
              "#d8576b"
             ],
             [
              0.6666666666666666,
              "#ed7953"
             ],
             [
              0.7777777777777778,
              "#fb9f3a"
             ],
             [
              0.8888888888888888,
              "#fdca26"
             ],
             [
              1,
              "#f0f921"
             ]
            ],
            "type": "contour"
           }
          ],
          "contourcarpet": [
           {
            "colorbar": {
             "outlinewidth": 0,
             "ticks": ""
            },
            "type": "contourcarpet"
           }
          ],
          "heatmap": [
           {
            "colorbar": {
             "outlinewidth": 0,
             "ticks": ""
            },
            "colorscale": [
             [
              0,
              "#0d0887"
             ],
             [
              0.1111111111111111,
              "#46039f"
             ],
             [
              0.2222222222222222,
              "#7201a8"
             ],
             [
              0.3333333333333333,
              "#9c179e"
             ],
             [
              0.4444444444444444,
              "#bd3786"
             ],
             [
              0.5555555555555556,
              "#d8576b"
             ],
             [
              0.6666666666666666,
              "#ed7953"
             ],
             [
              0.7777777777777778,
              "#fb9f3a"
             ],
             [
              0.8888888888888888,
              "#fdca26"
             ],
             [
              1,
              "#f0f921"
             ]
            ],
            "type": "heatmap"
           }
          ],
          "heatmapgl": [
           {
            "colorbar": {
             "outlinewidth": 0,
             "ticks": ""
            },
            "colorscale": [
             [
              0,
              "#0d0887"
             ],
             [
              0.1111111111111111,
              "#46039f"
             ],
             [
              0.2222222222222222,
              "#7201a8"
             ],
             [
              0.3333333333333333,
              "#9c179e"
             ],
             [
              0.4444444444444444,
              "#bd3786"
             ],
             [
              0.5555555555555556,
              "#d8576b"
             ],
             [
              0.6666666666666666,
              "#ed7953"
             ],
             [
              0.7777777777777778,
              "#fb9f3a"
             ],
             [
              0.8888888888888888,
              "#fdca26"
             ],
             [
              1,
              "#f0f921"
             ]
            ],
            "type": "heatmapgl"
           }
          ],
          "histogram": [
           {
            "marker": {
             "pattern": {
              "fillmode": "overlay",
              "size": 10,
              "solidity": 0.2
             }
            },
            "type": "histogram"
           }
          ],
          "histogram2d": [
           {
            "colorbar": {
             "outlinewidth": 0,
             "ticks": ""
            },
            "colorscale": [
             [
              0,
              "#0d0887"
             ],
             [
              0.1111111111111111,
              "#46039f"
             ],
             [
              0.2222222222222222,
              "#7201a8"
             ],
             [
              0.3333333333333333,
              "#9c179e"
             ],
             [
              0.4444444444444444,
              "#bd3786"
             ],
             [
              0.5555555555555556,
              "#d8576b"
             ],
             [
              0.6666666666666666,
              "#ed7953"
             ],
             [
              0.7777777777777778,
              "#fb9f3a"
             ],
             [
              0.8888888888888888,
              "#fdca26"
             ],
             [
              1,
              "#f0f921"
             ]
            ],
            "type": "histogram2d"
           }
          ],
          "histogram2dcontour": [
           {
            "colorbar": {
             "outlinewidth": 0,
             "ticks": ""
            },
            "colorscale": [
             [
              0,
              "#0d0887"
             ],
             [
              0.1111111111111111,
              "#46039f"
             ],
             [
              0.2222222222222222,
              "#7201a8"
             ],
             [
              0.3333333333333333,
              "#9c179e"
             ],
             [
              0.4444444444444444,
              "#bd3786"
             ],
             [
              0.5555555555555556,
              "#d8576b"
             ],
             [
              0.6666666666666666,
              "#ed7953"
             ],
             [
              0.7777777777777778,
              "#fb9f3a"
             ],
             [
              0.8888888888888888,
              "#fdca26"
             ],
             [
              1,
              "#f0f921"
             ]
            ],
            "type": "histogram2dcontour"
           }
          ],
          "mesh3d": [
           {
            "colorbar": {
             "outlinewidth": 0,
             "ticks": ""
            },
            "type": "mesh3d"
           }
          ],
          "parcoords": [
           {
            "line": {
             "colorbar": {
              "outlinewidth": 0,
              "ticks": ""
             }
            },
            "type": "parcoords"
           }
          ],
          "pie": [
           {
            "automargin": true,
            "type": "pie"
           }
          ],
          "scatter": [
           {
            "fillpattern": {
             "fillmode": "overlay",
             "size": 10,
             "solidity": 0.2
            },
            "type": "scatter"
           }
          ],
          "scatter3d": [
           {
            "line": {
             "colorbar": {
              "outlinewidth": 0,
              "ticks": ""
             }
            },
            "marker": {
             "colorbar": {
              "outlinewidth": 0,
              "ticks": ""
             }
            },
            "type": "scatter3d"
           }
          ],
          "scattercarpet": [
           {
            "marker": {
             "colorbar": {
              "outlinewidth": 0,
              "ticks": ""
             }
            },
            "type": "scattercarpet"
           }
          ],
          "scattergeo": [
           {
            "marker": {
             "colorbar": {
              "outlinewidth": 0,
              "ticks": ""
             }
            },
            "type": "scattergeo"
           }
          ],
          "scattergl": [
           {
            "marker": {
             "colorbar": {
              "outlinewidth": 0,
              "ticks": ""
             }
            },
            "type": "scattergl"
           }
          ],
          "scattermapbox": [
           {
            "marker": {
             "colorbar": {
              "outlinewidth": 0,
              "ticks": ""
             }
            },
            "type": "scattermapbox"
           }
          ],
          "scatterpolar": [
           {
            "marker": {
             "colorbar": {
              "outlinewidth": 0,
              "ticks": ""
             }
            },
            "type": "scatterpolar"
           }
          ],
          "scatterpolargl": [
           {
            "marker": {
             "colorbar": {
              "outlinewidth": 0,
              "ticks": ""
             }
            },
            "type": "scatterpolargl"
           }
          ],
          "scatterternary": [
           {
            "marker": {
             "colorbar": {
              "outlinewidth": 0,
              "ticks": ""
             }
            },
            "type": "scatterternary"
           }
          ],
          "surface": [
           {
            "colorbar": {
             "outlinewidth": 0,
             "ticks": ""
            },
            "colorscale": [
             [
              0,
              "#0d0887"
             ],
             [
              0.1111111111111111,
              "#46039f"
             ],
             [
              0.2222222222222222,
              "#7201a8"
             ],
             [
              0.3333333333333333,
              "#9c179e"
             ],
             [
              0.4444444444444444,
              "#bd3786"
             ],
             [
              0.5555555555555556,
              "#d8576b"
             ],
             [
              0.6666666666666666,
              "#ed7953"
             ],
             [
              0.7777777777777778,
              "#fb9f3a"
             ],
             [
              0.8888888888888888,
              "#fdca26"
             ],
             [
              1,
              "#f0f921"
             ]
            ],
            "type": "surface"
           }
          ],
          "table": [
           {
            "cells": {
             "fill": {
              "color": "#EBF0F8"
             },
             "line": {
              "color": "white"
             }
            },
            "header": {
             "fill": {
              "color": "#C8D4E3"
             },
             "line": {
              "color": "white"
             }
            },
            "type": "table"
           }
          ]
         },
         "layout": {
          "annotationdefaults": {
           "arrowcolor": "#2a3f5f",
           "arrowhead": 0,
           "arrowwidth": 1
          },
          "autotypenumbers": "strict",
          "coloraxis": {
           "colorbar": {
            "outlinewidth": 0,
            "ticks": ""
           }
          },
          "colorscale": {
           "diverging": [
            [
             0,
             "#8e0152"
            ],
            [
             0.1,
             "#c51b7d"
            ],
            [
             0.2,
             "#de77ae"
            ],
            [
             0.3,
             "#f1b6da"
            ],
            [
             0.4,
             "#fde0ef"
            ],
            [
             0.5,
             "#f7f7f7"
            ],
            [
             0.6,
             "#e6f5d0"
            ],
            [
             0.7,
             "#b8e186"
            ],
            [
             0.8,
             "#7fbc41"
            ],
            [
             0.9,
             "#4d9221"
            ],
            [
             1,
             "#276419"
            ]
           ],
           "sequential": [
            [
             0,
             "#0d0887"
            ],
            [
             0.1111111111111111,
             "#46039f"
            ],
            [
             0.2222222222222222,
             "#7201a8"
            ],
            [
             0.3333333333333333,
             "#9c179e"
            ],
            [
             0.4444444444444444,
             "#bd3786"
            ],
            [
             0.5555555555555556,
             "#d8576b"
            ],
            [
             0.6666666666666666,
             "#ed7953"
            ],
            [
             0.7777777777777778,
             "#fb9f3a"
            ],
            [
             0.8888888888888888,
             "#fdca26"
            ],
            [
             1,
             "#f0f921"
            ]
           ],
           "sequentialminus": [
            [
             0,
             "#0d0887"
            ],
            [
             0.1111111111111111,
             "#46039f"
            ],
            [
             0.2222222222222222,
             "#7201a8"
            ],
            [
             0.3333333333333333,
             "#9c179e"
            ],
            [
             0.4444444444444444,
             "#bd3786"
            ],
            [
             0.5555555555555556,
             "#d8576b"
            ],
            [
             0.6666666666666666,
             "#ed7953"
            ],
            [
             0.7777777777777778,
             "#fb9f3a"
            ],
            [
             0.8888888888888888,
             "#fdca26"
            ],
            [
             1,
             "#f0f921"
            ]
           ]
          },
          "colorway": [
           "#636efa",
           "#EF553B",
           "#00cc96",
           "#ab63fa",
           "#FFA15A",
           "#19d3f3",
           "#FF6692",
           "#B6E880",
           "#FF97FF",
           "#FECB52"
          ],
          "font": {
           "color": "#2a3f5f"
          },
          "geo": {
           "bgcolor": "white",
           "lakecolor": "white",
           "landcolor": "#E5ECF6",
           "showlakes": true,
           "showland": true,
           "subunitcolor": "white"
          },
          "hoverlabel": {
           "align": "left"
          },
          "hovermode": "closest",
          "mapbox": {
           "style": "light"
          },
          "paper_bgcolor": "white",
          "plot_bgcolor": "#E5ECF6",
          "polar": {
           "angularaxis": {
            "gridcolor": "white",
            "linecolor": "white",
            "ticks": ""
           },
           "bgcolor": "#E5ECF6",
           "radialaxis": {
            "gridcolor": "white",
            "linecolor": "white",
            "ticks": ""
           }
          },
          "scene": {
           "xaxis": {
            "backgroundcolor": "#E5ECF6",
            "gridcolor": "white",
            "gridwidth": 2,
            "linecolor": "white",
            "showbackground": true,
            "ticks": "",
            "zerolinecolor": "white"
           },
           "yaxis": {
            "backgroundcolor": "#E5ECF6",
            "gridcolor": "white",
            "gridwidth": 2,
            "linecolor": "white",
            "showbackground": true,
            "ticks": "",
            "zerolinecolor": "white"
           },
           "zaxis": {
            "backgroundcolor": "#E5ECF6",
            "gridcolor": "white",
            "gridwidth": 2,
            "linecolor": "white",
            "showbackground": true,
            "ticks": "",
            "zerolinecolor": "white"
           }
          },
          "shapedefaults": {
           "line": {
            "color": "#2a3f5f"
           }
          },
          "ternary": {
           "aaxis": {
            "gridcolor": "white",
            "linecolor": "white",
            "ticks": ""
           },
           "baxis": {
            "gridcolor": "white",
            "linecolor": "white",
            "ticks": ""
           },
           "bgcolor": "#E5ECF6",
           "caxis": {
            "gridcolor": "white",
            "linecolor": "white",
            "ticks": ""
           }
          },
          "title": {
           "x": 0.05
          },
          "xaxis": {
           "automargin": true,
           "gridcolor": "white",
           "linecolor": "white",
           "ticks": "",
           "title": {
            "standoff": 15
           },
           "zerolinecolor": "white",
           "zerolinewidth": 2
          },
          "yaxis": {
           "automargin": true,
           "gridcolor": "white",
           "linecolor": "white",
           "ticks": "",
           "title": {
            "standoff": 15
           },
           "zerolinecolor": "white",
           "zerolinewidth": 2
          }
         }
        },
        "title": {
         "text": "Activity Timeline"
        },
        "xaxis": {
         "anchor": "y",
         "domain": [
          0,
          1
         ],
         "title": {
          "text": "Timeline"
         },
         "type": "date"
        },
        "yaxis": {
         "anchor": "x",
         "domain": [
          0,
          1
         ],
         "title": {
          "text": "Tasks"
         }
        }
       }
      }
     },
     "metadata": {},
     "output_type": "display_data"
    }
   ],
   "source": [
    "# Prepare data for Gantt chart\n",
    "gantt_df = activities_df[['Task', 'Activity', 'Start', 'End']]\n",
    "\n",
    "fig = px.timeline(gantt_df, \n",
    "                  x_start=\"Start\", \n",
    "                  x_end=\"End\", \n",
    "                  y=\"Task\", \n",
    "                  color=\"Activity\", \n",
    "                  title=\"Activity Timeline\",\n",
    "                  labels={\"Task\": \"Task\", \"Activity\": \"Activity\"})\n",
    "fig.update_layout(showlegend=False, xaxis_title=\"Timeline\", yaxis_title=\"Tasks\")\n",
    "fig.show()"
   ]
  },
  {
   "cell_type": "markdown",
   "metadata": {},
   "source": [
    "### Dependency Network Graph"
   ]
  },
  {
   "cell_type": "code",
   "execution_count": 10,
   "metadata": {},
   "outputs": [
    {
     "data": {
      "application/vnd.plotly.v1+json": {
       "config": {
        "plotlyServerURL": "https://plot.ly"
       },
       "data": [
        {
         "hoverinfo": "text",
         "line": {
          "color": "gray",
          "width": 1
         },
         "mode": "lines",
         "type": "scatter",
         "x": [
          0.758373525522317,
          0.8081428250970262,
          -0.6327077841611216,
          -0.7802541265087205,
          -0.4468485257987385,
          -0.5524214454175286,
          -0.18823502810349796,
          -0.6053857626241351,
          -0.18823502810349796,
          -0.5148789580500442,
          -0.18823502810349796,
          0.5506011370303614,
          -0.18823502810349796,
          0.502563800108088,
          -0.18823502810349796,
          -0.8263415401193652,
          -0.18823502810349796,
          -0.44296007475820476,
          0.3453645020648082,
          0.09807312409365565,
          0.3453645020648082,
          0.6757800840399779,
          0.10290356463113191,
          -0.5569764541445822,
          0.10290356463113191,
          -0.3217335521949961,
          0.10290356463113191,
          0.9798592745570398,
          0.10290356463113191,
          0.1785885080178513,
          -0.5569764541445822,
          -0.26583278924159187,
          -0.5569764541445822,
          -0.7517258086015247,
          -0.5569764541445822,
          -0.7323237531226747,
          -0.5212828049207254,
          -0.18823502810349796,
          -0.5212828049207254,
          -0.8554841813025688,
          -0.5258309234229246,
          -0.6834097636359842,
          -0.5258309234229246,
          -0.5569764541445822,
          -0.5258309234229246,
          -0.36441976244082136,
          -0.5954196448611419,
          -0.5569764541445822,
          -0.15684226128639003,
          0.17005440805025687,
          -0.15684226128639003,
          0.30176306086854465,
          -0.15684226128639003,
          -0.7517258086015247,
          0.17005440805025687,
          -0.26583278924159187,
          0.17005440805025687,
          0.9300368849118319,
          0.17005440805025687,
          0.12265269072541468,
          0.17005440805025687,
          -0.0976708515889074,
          0.17005440805025687,
          0.8000530176976303,
          0.17005440805025687,
          -0.8762400646732802,
          0.17005440805025687,
          0.4959822381505598,
          0.17005440805025687,
          0.691828954264929,
          0.12265269072541468,
          0.1785885080178513,
          -0.10792497258709632,
          -0.16180895857830027,
          0.1402335316770188,
          0.1785885080178513,
          0.15169558836589223,
          0.1785885080178513,
          0.1786407633638058,
          0.1785885080178513,
          -0.23390417047871026,
          -0.18823502810349796,
          0.8934517662875756,
          0.9798592745570398,
          0.7848977607577159,
          0.7406087162841355,
          -0.8533825781140604,
          -0.897133679459391,
          0.13334016238217009,
          0.1785885080178513,
          0.15630340177408963,
          0.10290356463113191,
          0.2203865054750799,
          0.17005440805025687,
          -0.19276263463002927,
          -0.18823502810349796,
          0.5923234179092886,
          0.8067492354461226,
          -0.2861058852106241,
          -0.3217335521949961,
          0.9472184749462085,
          1,
          0.14039229130995998,
          0.1785885080178513,
          -0.5418370040862157,
          -0.5258309234229246,
          0.05521277680022334,
          0.10290356463113191,
          0.11600975151318661,
          0.10290356463113191
         ],
         "y": [
          0.4575796233029246,
          0.48625689164692387,
          0.4347921979762944,
          0.5289486308085066,
          0.6620317998589271,
          0.8179324121738949,
          -0.3069100209250751,
          -0.6887136052079131,
          -0.3069100209250751,
          0.5923185942093616,
          -0.3069100209250751,
          -0.6658302278228184,
          -0.3069100209250751,
          -0.8226232601821081,
          -0.3069100209250751,
          0.17059319157940636,
          -0.3069100209250751,
          -0.8154854014322533,
          0.68233974857911,
          0.8672264622532695,
          0.68233974857911,
          0.7871186751672496,
          0.0391875314590787,
          -0.27720442019932734,
          0.0391875314590787,
          0.913449358718008,
          0.0391875314590787,
          0.3629583499197595,
          0.0391875314590787,
          -0.9200184140010207,
          -0.27720442019932734,
          -0.8241835811103569,
          -0.27720442019932734,
          -0.544688008414184,
          -0.27720442019932734,
          0.36476550749394043,
          -0.3119892045153278,
          -0.3069100209250751,
          -0.3119892045153278,
          -0.31076194094531523,
          0.32456388786420065,
          0.6821528781057614,
          0.32456388786420065,
          -0.27720442019932734,
          0.32456388786420065,
          0.7819246912873359,
          -0.25027109152999183,
          -0.27720442019932734,
          0.14233425145653777,
          -0.058158126830696766,
          0.14233425145653777,
          0.9184954852097067,
          0.14233425145653777,
          -0.544688008414184,
          -0.058158126830696766,
          -0.8241835811103569,
          -0.058158126830696766,
          -0.3136151651474048,
          -0.058158126830696766,
          -0.6978584451080043,
          -0.058158126830696766,
          0.9635742066165707,
          -0.058158126830696766,
          -0.5738854209866231,
          -0.058158126830696766,
          0.33390474212475146,
          -0.058158126830696766,
          0.7953248038403535,
          -0.058158126830696766,
          -0.7417725856685803,
          -0.6978584451080043,
          -0.9200184140010207,
          -0.7201189557853231,
          -0.9384459229130403,
          -0.8432764446426704,
          -0.9200184140010207,
          -0.752618256951257,
          -0.9200184140010207,
          -0.8050968465149084,
          -0.9200184140010207,
          -0.29545863678244116,
          -0.3069100209250751,
          0.33225382985570606,
          0.3629583499197595,
          -0.3717561139791076,
          -0.39608984190618163,
          0.09129919322796855,
          0.1285939878791671,
          -0.7926772850911393,
          -0.9200184140010207,
          0.05366402336479087,
          0.0391875314590787,
          -0.08323296546841755,
          -0.058158126830696766,
          -0.3599836262113197,
          -0.3069100209250751,
          0.43646802974717486,
          0.6376941684577295,
          0.8014921978946369,
          0.913449358718008,
          0.05557358257577159,
          0.06765676814220688,
          -0.6709741282703311,
          -0.9200184140010207,
          0.285636865028804,
          0.32456388786420065,
          0.057477538606029416,
          0.0391875314590787,
          0.0961138381112763,
          0.0391875314590787
         ]
        },
        {
         "hoverinfo": "text",
         "marker": {
          "color": [
           "rgba(125, 225, 217, 0.8)",
           "rgba(146, 249, 193, 0.8)",
           "rgba(198, 173, 182, 0.8)",
           "rgba(247, 115, 165, 0.8)",
           "rgba(191, 168, 249, 0.8)",
           "rgba(154, 171, 196, 0.8)",
           "rgba(241, 253, 143, 0.8)",
           "rgba(172, 181, 237, 0.8)",
           "rgba(119, 222, 103, 0.8)",
           "rgba(100, 100, 103, 0.8)",
           "rgba(137, 138, 149, 0.8)",
           "rgba(101, 216, 153, 0.8)",
           "rgba(107, 112, 180, 0.8)",
           "rgba(112, 250, 169, 0.8)",
           "rgba(156, 162, 206, 0.8)",
           "rgba(117, 101, 135, 0.8)",
           "rgba(149, 158, 180, 0.8)",
           "rgba(255, 149, 254, 0.8)",
           "rgba(180, 246, 187, 0.8)",
           "rgba(214, 146, 150, 0.8)",
           "rgba(126, 170, 140, 0.8)",
           "rgba(232, 101, 107, 0.8)",
           "rgba(254, 122, 203, 0.8)",
           "rgba(185, 210, 153, 0.8)",
           "rgba(143, 169, 127, 0.8)",
           "rgba(229, 193, 240, 0.8)",
           "rgba(174, 178, 201, 0.8)",
           "rgba(222, 184, 136, 0.8)",
           "rgba(150, 111, 192, 0.8)",
           "rgba(139, 231, 172, 0.8)",
           "rgba(246, 111, 250, 0.8)",
           "rgba(199, 154, 154, 0.8)",
           "rgba(210, 181, 208, 0.8)",
           "rgba(234, 237, 226, 0.8)",
           "rgba(248, 241, 161, 0.8)",
           "rgba(234, 143, 166, 0.8)",
           "rgba(166, 221, 254, 0.8)",
           "rgba(176, 116, 100, 0.8)",
           "rgba(152, 177, 129, 0.8)",
           "rgba(218, 150, 143, 0.8)",
           "rgba(118, 131, 195, 0.8)",
           "rgba(213, 137, 168, 0.8)",
           "rgba(160, 210, 230, 0.8)",
           "rgba(219, 117, 122, 0.8)",
           "rgba(155, 221, 129, 0.8)",
           "rgba(108, 110, 150, 0.8)",
           "rgba(255, 206, 168, 0.8)",
           "rgba(153, 110, 232, 0.8)",
           "rgba(254, 173, 127, 0.8)",
           "rgba(126, 133, 128, 0.8)",
           "rgba(186, 179, 162, 0.8)",
           "rgba(230, 227, 231, 0.8)",
           "rgba(125, 123, 124, 0.8)",
           "rgba(138, 175, 146, 0.8)",
           "rgba(104, 249, 184, 0.8)",
           "rgba(167, 239, 236, 0.8)",
           "rgba(116, 135, 231, 0.8)",
           "rgba(246, 125, 206, 0.8)",
           "rgba(163, 129, 146, 0.8)",
           "rgba(152, 255, 244, 0.8)",
           "rgba(184, 177, 219, 0.8)",
           "rgba(156, 104, 175, 0.8)",
           "rgba(172, 149, 234, 0.8)",
           "rgba(251, 186, 201, 0.8)"
          ],
          "line": {
           "color": "black",
           "width": 2
          },
          "size": 20
         },
         "mode": "markers+text",
         "text": [
          "A.4.4.2 Define standards for the eligibility of learning programmes for the UGS",
          "A.3.1.3 Introduce the mobility window (MW) in study programmes",
          "A.3.3.2 Develop the UNITA teacher training offer",
          "A.2.1.1 Outline student and staff policies through-out the alliance",
          "A.2.4.3 Ensure accessible mobility for every student",
          "A.3.4.1 Set up the UNITA inter-university digital campus",
          "A.5.2.2 Define the economic model and common financial methodology",
          "A.3.2.5 Use microcredentials as a contribution to the UNITA financial sustainability",
          "A.3.1.5 Design and implement shared UNITA degrees",
          "A.3.4.3 Implement and test the UNITA inter-university digi-tal campus in a continuous monitoring and follow-up approach",
          "A.4.2.1 Evolve and update the researchers cartography",
          "A.5.3.3 Introduce sustainability topics into the stu-dents’ curricula",
          "A.3.2.4 Set up the catalogue of UNITA labelled micro-credentials",
          "A.4.3.2 Consolidate the model for sharing research infrastructures and services, based on a decentralized management and Open Data approaches",
          "A.5.5.2 Enhance the GEMINAE network",
          "A.5.1.2 Create a map of stakeholders",
          "A.2.2.3 Create a network of UNITA language centres, including GEMINAE partners",
          "A.2.4.2 Encourage and facilitate mobility",
          "A.4.4.1 Collect and chart current master and doctoral training activities",
          "A.5.3.4 Promote green mobility",
          "A.5.4.3 Implement and test first series of impact measurement",
          "A.5.4.2 Design methodology, data collection and interfaces dashboard principles",
          "A.1.2.4 Update the UNITA Management Guide and tools and design a DataWarehouse",
          "A.5.4.4 Collect and assest feedback from target group and stakeholders",
          "A.5.3.5 Create a culture of sustainability",
          "A.5.1.4 Implement and test the Communication Plan",
          "A.4.1.3 Build an industry-driven and challenge-based teaching and learning network",
          "A.4.2.4 Evolve this common basic organization into more institutionalized international research centres",
          "A.2.1.6 Connect students’ organisations and initiatives",
          "A.2.4.1 Define an alliance mobility strategy and action plan",
          "A.3.4.2 Set the specifications of the inter-university digital campus",
          "A.1.2.5 Continuous management and coordination of the tasks activities",
          "A.4.1.1 Chart the cartography of the smart specialization strategies and ecosystems",
          "A.5.5.3 Participate and organize inter-alliance events",
          "A.2.1.2 Promote student and staff well-being",
          "A.2.1.3 Promote inclusion and gender equity",
          "A.2.5.3 Set up UNITA prizes and contests on European Citizenship",
          "A.2.5.5 Promote a sense of belonging to European communities and inclusiveness",
          "A.3.3.4 Launch yearly calls on Innovation in Learning & Teaching",
          "nan",
          "A.5.5.2.1 Geminae conference Zaragoza (ACTION 6.1)",
          "A.5.1.5 Contribute to increasing the sense of belonging to UNITA of our university communities",
          "A.5.5.2.2 Best practices awards (ACTION 6.2)",
          "A.5.5.2.3 Apply for KA171 (ACTION 7)",
          "A.5.5.2.4 Define criteria for membership to GEMINAE (ACTION 6.3)",
          "A.5.5.2.5 Articulate mobilities of students and staff of the KA 171 obtained in 2024 (Actions 8 and 9)",
          "A.5.5.2.6 Coordination with TT2.4 for viretual mobility  (ACTION 6.4)",
          "A.5.5.2.7 Coordination with TT5.1 for updating the multilingual presentation of GEMINAE network  (ACTION 6.3)",
          "A.5.1.3 Update the UNITA Communication Plan",
          "A.5.5.2.8 Evaluate whether the Matching Events on research can be open to GEMINAE Researchers- establish a coordination with T2.3 and WP4 (T4.2)",
          "A.2.3.2 Implement Task-focused open actions for community building",
          "A5.5.2.9 Visits to Geminae partners in order to promote UNITA and all its member universities (Actions 8 and 9)",
          "A5.5.2.10 Geminae network extension",
          "A.5.5.3.1 Participate in conferences oriented towards supporting European Universities Alliances (eg. Compass conference, side-events to the EAIE) (ACTION 1)",
          "A.5.5.3.2 EAIE, NAFSA or APAIE sessions and poster alone, with Geminae Partners and with other possible stakeholders (MAYBE 6.4- ACTION 2), ",
          "A.5.5.3.3 FOREU4All (ACTION 3)",
          "A.2.1.5 Facilitate organisational innovation through intra-entrepreneurship and management development",
          "A.5.5.3.4 coordination with TT2.2 INTERCOMPREHENSION ( ACTION 10-14) ",
          "A.5.5.3.5 Elaborate a “Do’s and Dont’s Guide” for events and mobility to be disseminated between students and academic staff",
          "A.5.3.2 Design the UNITA Green Sustainability Action Plan",
          "A.5.5.4 Collect and assess feedback from target groups and end-users",
          "A.5.5.4.1 Coordination with TT5.4 for impact analysis",
          "A.5.5.4.2 Define target groups and end-users",
          "A.5.5.4.3 collect feedback from all the GEMINAE partners (ACTION 6.3)"
         ],
         "textposition": "bottom center",
         "type": "scatter",
         "x": [
          0.758373525522317,
          0.8081428250970262,
          -0.6327077841611216,
          -0.7802541265087205,
          -0.4468485257987385,
          -0.5524214454175286,
          -0.18823502810349796,
          -0.6053857626241351,
          -0.5148789580500442,
          0.5506011370303614,
          0.502563800108088,
          0.3453645020648082,
          0.09807312409365565,
          -0.8263415401193652,
          0.10290356463113191,
          -0.5569764541445822,
          -0.3217335521949961,
          0.9798592745570398,
          -0.44296007475820476,
          -0.5212828049207254,
          -0.5258309234229246,
          -0.6834097636359842,
          -0.36441976244082136,
          -0.5954196448611419,
          -0.15684226128639003,
          0.17005440805025687,
          0.6757800840399779,
          0.30176306086854465,
          -0.7517258086015247,
          -0.8554841813025688,
          -0.26583278924159187,
          0.9300368849118319,
          -0.7323237531226747,
          0.12265269072541468,
          -0.0976708515889074,
          0.8000530176976303,
          -0.8762400646732802,
          0.4959822381505598,
          0.691828954264929,
          0.1785885080178513,
          -0.10792497258709632,
          -0.16180895857830027,
          0.1402335316770188,
          0.15169558836589223,
          0.1786407633638058,
          -0.23390417047871026,
          0.8934517662875756,
          0.7848977607577159,
          0.7406087162841355,
          -0.8533825781140604,
          -0.897133679459391,
          0.13334016238217009,
          0.15630340177408963,
          0.2203865054750799,
          -0.19276263463002927,
          0.5923234179092886,
          0.8067492354461226,
          -0.2861058852106241,
          0.9472184749462085,
          1,
          0.14039229130995998,
          -0.5418370040862157,
          0.05521277680022334,
          0.11600975151318661
         ],
         "y": [
          0.4575796233029246,
          0.48625689164692387,
          0.4347921979762944,
          0.5289486308085066,
          0.6620317998589271,
          0.8179324121738949,
          -0.3069100209250751,
          -0.6887136052079131,
          0.5923185942093616,
          -0.6658302278228184,
          -0.8226232601821081,
          0.68233974857911,
          0.8672264622532695,
          0.17059319157940636,
          0.0391875314590787,
          -0.27720442019932734,
          0.913449358718008,
          0.3629583499197595,
          -0.8154854014322533,
          -0.3119892045153278,
          0.32456388786420065,
          0.6821528781057614,
          0.7819246912873359,
          -0.25027109152999183,
          0.14233425145653777,
          -0.058158126830696766,
          0.7871186751672496,
          0.9184954852097067,
          -0.544688008414184,
          -0.31076194094531523,
          -0.8241835811103569,
          -0.3136151651474048,
          0.36476550749394043,
          -0.6978584451080043,
          0.9635742066165707,
          -0.5738854209866231,
          0.33390474212475146,
          0.7953248038403535,
          -0.7417725856685803,
          -0.9200184140010207,
          -0.7201189557853231,
          -0.9384459229130403,
          -0.8432764446426704,
          -0.752618256951257,
          -0.8050968465149084,
          -0.29545863678244116,
          0.33225382985570606,
          -0.3717561139791076,
          -0.39608984190618163,
          0.09129919322796855,
          0.1285939878791671,
          -0.7926772850911393,
          0.05366402336479087,
          -0.08323296546841755,
          -0.3599836262113197,
          0.43646802974717486,
          0.6376941684577295,
          0.8014921978946369,
          0.05557358257577159,
          0.06765676814220688,
          -0.6709741282703311,
          0.285636865028804,
          0.057477538606029416,
          0.0961138381112763
         ]
        },
        {
         "mode": "text",
         "showlegend": false,
         "text": [
          "Finish to Start (FtS) - No problem"
         ],
         "type": "scatter",
         "x": [
          0.7832581753096716
         ],
         "y": [
          0.4719182574749242
         ]
        },
        {
         "mode": "text",
         "showlegend": false,
         "text": [
          "Finish to Finish (FtF) - Slowing"
         ],
         "type": "scatter",
         "x": [
          -0.7064809553349211
         ],
         "y": [
          0.4818704143924005
         ]
        },
        {
         "mode": "text",
         "showlegend": false,
         "text": [
          "Start to Start (StS) - Blocking"
         ],
         "type": "scatter",
         "x": [
          -0.4996349856081336
         ],
         "y": [
          0.739982106016411
         ]
        },
        {
         "mode": "text",
         "showlegend": false,
         "text": [
          "Finish to Finish (FtF) - nan"
         ],
         "type": "scatter",
         "x": [
          -0.39681039536381657
         ],
         "y": [
          -0.49781181306649414
         ]
        },
        {
         "mode": "text",
         "showlegend": false,
         "text": [
          "Finish to Finish (FtF) - No problem"
         ],
         "type": "scatter",
         "x": [
          -0.35155699307677113
         ],
         "y": [
          0.14270428664214327
         ]
        },
        {
         "mode": "text",
         "showlegend": false,
         "text": [
          "Finish to Finish (FtF) - No problem"
         ],
         "type": "scatter",
         "x": [
          0.18118305446343172
         ],
         "y": [
          -0.4863701243739468
         ]
        },
        {
         "mode": "text",
         "showlegend": false,
         "text": [
          "Finish to Finish (FtF) - No problem"
         ],
         "type": "scatter",
         "x": [
          0.15716438600229501
         ],
         "y": [
          -0.5647666405535916
         ]
        },
        {
         "mode": "text",
         "showlegend": false,
         "text": [
          "Finish to Finish (FtF) - No problem"
         ],
         "type": "scatter",
         "x": [
          -0.5072882841114316
         ],
         "y": [
          -0.06815841467283436
         ]
        },
        {
         "mode": "text",
         "showlegend": false,
         "text": [
          "Finish to Start (FtS) - No problem"
         ],
         "type": "scatter",
         "x": [
          -0.31559755143085133
         ],
         "y": [
          -0.5611977111786642
         ]
        },
        {
         "mode": "text",
         "showlegend": false,
         "text": [
          "Requires - No problem"
         ],
         "type": "scatter",
         "x": [
          0.2217188130792319
         ],
         "y": [
          0.7747831054161898
         ]
        },
        {
         "mode": "text",
         "showlegend": false,
         "text": [
          "Requires - No problem"
         ],
         "type": "scatter",
         "x": [
          0.510572293052393
         ],
         "y": [
          0.7347292118731799
         ]
        },
        {
         "mode": "text",
         "showlegend": false,
         "text": [
          "Finish to Start (FtS) - Slowing"
         ],
         "type": "scatter",
         "x": [
          -0.22703644475672513
         ],
         "y": [
          -0.11900844437012431
         ]
        },
        {
         "mode": "text",
         "showlegend": false,
         "text": [
          "Finish to Start (FtS) - No problem"
         ],
         "type": "scatter",
         "x": [
          -0.10941499378193209
         ],
         "y": [
          0.4763184450885434
         ]
        },
        {
         "mode": "text",
         "showlegend": false,
         "text": [
          "Finish to Start (FtS) - No problem"
         ],
         "type": "scatter",
         "x": [
          0.5413814195940858
         ],
         "y": [
          0.2010729406894191
         ]
        },
        {
         "mode": "text",
         "showlegend": false,
         "text": [
          "nan - nan"
         ],
         "type": "scatter",
         "x": [
          0.14074603632449162
         ],
         "y": [
          -0.440415441270971
         ]
        },
        {
         "mode": "text",
         "showlegend": false,
         "text": [
          "Finish to Finish (FtF) - No problem"
         ],
         "type": "scatter",
         "x": [
          -0.411404621693087
         ],
         "y": [
          -0.5506940006548422
         ]
        },
        {
         "mode": "text",
         "showlegend": false,
         "text": [
          "Finish to Start (FtS) - No problem"
         ],
         "type": "scatter",
         "x": [
          -0.6543511313730535
         ],
         "y": [
          -0.41094621430675565
         ]
        },
        {
         "mode": "text",
         "showlegend": false,
         "text": [
          "Requires - No problem"
         ],
         "type": "scatter",
         "x": [
          -0.6446501036336285
         ],
         "y": [
          0.04378054364730655
         ]
        },
        {
         "mode": "text",
         "showlegend": false,
         "text": [
          "Finish to Start (FtS) - Slowing"
         ],
         "type": "scatter",
         "x": [
          -0.35475891651211167
         ],
         "y": [
          -0.30944961272020144
         ]
        },
        {
         "mode": "text",
         "showlegend": false,
         "text": [
          "Start to Start (StS) - No problem"
         ],
         "type": "scatter",
         "x": [
          -0.688383493111647
         ],
         "y": [
          -0.3113755727303215
         ]
        },
        {
         "mode": "text",
         "showlegend": false,
         "text": [
          "Finish to Start (FtS) - No problem"
         ],
         "type": "scatter",
         "x": [
          -0.6046203435294544
         ],
         "y": [
          0.503358382984981
         ]
        },
        {
         "mode": "text",
         "showlegend": false,
         "text": [
          "Finish to Start (FtS) - Slowing"
         ],
         "type": "scatter",
         "x": [
          -0.5414036887837534
         ],
         "y": [
          0.023679733832436656
         ]
        },
        {
         "mode": "text",
         "showlegend": false,
         "text": [
          "Finish to Start (FtS) - Slowing"
         ],
         "type": "scatter",
         "x": [
          -0.445125342931873
         ],
         "y": [
          0.5532442895757683
         ]
        },
        {
         "mode": "text",
         "showlegend": false,
         "text": [
          "Finish to Start (FtS) - Slowing"
         ],
         "type": "scatter",
         "x": [
          -0.576198049502862
         ],
         "y": [
          -0.2637377558646596
         ]
        },
        {
         "mode": "text",
         "showlegend": false,
         "text": [
          "Requires - No problem"
         ],
         "type": "scatter",
         "x": [
          0.006606073381933419
         ],
         "y": [
          0.042088062312920504
         ]
        },
        {
         "mode": "text",
         "showlegend": false,
         "text": [
          "Requires - No problem"
         ],
         "type": "scatter",
         "x": [
          0.07246039979107731
         ],
         "y": [
          0.5304148683331222
         ]
        },
        {
         "mode": "text",
         "showlegend": false,
         "text": [
          "Requires - No problem"
         ],
         "type": "scatter",
         "x": [
          -0.45428403494395736
         ],
         "y": [
          -0.2011768784788231
         ]
        },
        {
         "mode": "text",
         "showlegend": false,
         "text": [
          "Finish to Finish (FtF) - Slowing"
         ],
         "type": "scatter",
         "x": [
          -0.0478891905956675
         ],
         "y": [
          -0.44117085397052686
         ]
        },
        {
         "mode": "text",
         "showlegend": false,
         "text": [
          "Finish to Finish (FtF) - No problem"
         ],
         "type": "scatter",
         "x": [
          0.5500456464810444
         ],
         "y": [
          -0.18588664598905077
         ]
        },
        {
         "mode": "text",
         "showlegend": false,
         "text": [
          "Finish to Start (FtS) - No problem"
         ],
         "type": "scatter",
         "x": [
          0.1463535493878358
         ],
         "y": [
          -0.37800828596935054
         ]
        },
        {
         "mode": "text",
         "showlegend": false,
         "text": [
          "Requires - No problem"
         ],
         "type": "scatter",
         "x": [
          0.03619177823067474
         ],
         "y": [
          0.45270803989293695
         ]
        },
        {
         "mode": "text",
         "showlegend": false,
         "text": [
          "Requires - No problem"
         ],
         "type": "scatter",
         "x": [
          0.48505371287394355
         ],
         "y": [
          -0.31602177390865993
         ]
        },
        {
         "mode": "text",
         "showlegend": false,
         "text": [
          "Requires - No problem"
         ],
         "type": "scatter",
         "x": [
          -0.3530928283115117
         ],
         "y": [
          0.13787330764702735
         ]
        },
        {
         "mode": "text",
         "showlegend": false,
         "text": [
          "Requires - No problem"
         ],
         "type": "scatter",
         "x": [
          0.33301832310040835
         ],
         "y": [
          0.3685833385048284
         ]
        },
        {
         "mode": "text",
         "showlegend": false,
         "text": [
          "Requires - No problem"
         ],
         "type": "scatter",
         "x": [
          0.4309416811575929
         ],
         "y": [
          -0.3999653562496385
         ]
        },
        {
         "mode": "text",
         "showlegend": false,
         "text": [
          "nan - nan"
         ],
         "type": "scatter",
         "x": [
          0.150620599371633
         ],
         "y": [
          -0.8089384295545126
         ]
        },
        {
         "mode": "text",
         "showlegend": false,
         "text": [
          "Start to Start (StS) - No problem"
         ],
         "type": "scatter",
         "x": [
          -0.13486696558269828
         ],
         "y": [
          -0.8292824393491818
         ]
        },
        {
         "mode": "text",
         "showlegend": false,
         "text": [
          "nan - nan"
         ],
         "type": "scatter",
         "x": [
          0.15941101984743505
         ],
         "y": [
          -0.8816474293218455
         ]
        },
        {
         "mode": "text",
         "showlegend": false,
         "text": [
          "nan - nan"
         ],
         "type": "scatter",
         "x": [
          0.16514204819187178
         ],
         "y": [
          -0.8363183354761388
         ]
        },
        {
         "mode": "text",
         "showlegend": false,
         "text": [
          "nan - nan"
         ],
         "type": "scatter",
         "x": [
          0.17861463569082855
         ],
         "y": [
          -0.8625576302579645
         ]
        },
        {
         "mode": "text",
         "showlegend": false,
         "text": [
          "Finish to Start (FtS) - No problem"
         ],
         "type": "scatter",
         "x": [
          -0.2110695992911041
         ],
         "y": [
          -0.3011843288537581
         ]
        },
        {
         "mode": "text",
         "showlegend": false,
         "text": [
          "Start to Start (StS) - Slowing"
         ],
         "type": "scatter",
         "x": [
          0.9366555204223077
         ],
         "y": [
          0.3476060898877328
         ]
        },
        {
         "mode": "text",
         "showlegend": false,
         "text": [
          "Start to Start (StS) - Slowing"
         ],
         "type": "scatter",
         "x": [
          0.7627532385209257
         ],
         "y": [
          -0.3839229779426446
         ]
        },
        {
         "mode": "text",
         "showlegend": false,
         "text": [
          "Start to Start (StS) - No problem"
         ],
         "type": "scatter",
         "x": [
          -0.8752581287867257
         ],
         "y": [
          0.10994659055356781
         ]
        },
        {
         "mode": "text",
         "showlegend": false,
         "text": [
          "nan - nan"
         ],
         "type": "scatter",
         "x": [
          0.15596433520001068
         ],
         "y": [
          -0.85634784954608
         ]
        },
        {
         "mode": "text",
         "showlegend": false,
         "text": [
          "Finish to Start (FtS) - Slowing"
         ],
         "type": "scatter",
         "x": [
          0.12960348320261078
         ],
         "y": [
          0.046425777411934786
         ]
        },
        {
         "mode": "text",
         "showlegend": false,
         "text": [
          "Finish to Finish (FtF) - No problem"
         ],
         "type": "scatter",
         "x": [
          0.1952204567626684
         ],
         "y": [
          -0.07069554614955716
         ]
        },
        {
         "mode": "text",
         "showlegend": false,
         "text": [
          "Finish to Start (FtS) - Slowing"
         ],
         "type": "scatter",
         "x": [
          -0.1904988313667636
         ],
         "y": [
          -0.3334468235681974
         ]
        },
        {
         "mode": "text",
         "showlegend": false,
         "text": [
          "Start to Start (StS) - No problem"
         ],
         "type": "scatter",
         "x": [
          0.6995363266777056
         ],
         "y": [
          0.5370810991024522
         ]
        },
        {
         "mode": "text",
         "showlegend": false,
         "text": [
          "Start to Start (StS) - No problem"
         ],
         "type": "scatter",
         "x": [
          -0.3039197187028101
         ],
         "y": [
          0.8574707783063225
         ]
        },
        {
         "mode": "text",
         "showlegend": false,
         "text": [
          "Finish to Finish (FtF) - No problem"
         ],
         "type": "scatter",
         "x": [
          0.9736092374731042
         ],
         "y": [
          0.061615175358989235
         ]
        },
        {
         "mode": "text",
         "showlegend": false,
         "text": [
          "nan - nan"
         ],
         "type": "scatter",
         "x": [
          0.15949039966390566
         ],
         "y": [
          -0.7954962711356759
         ]
        },
        {
         "mode": "text",
         "showlegend": false,
         "text": [
          "Start to Start (StS) - No problem"
         ],
         "type": "scatter",
         "x": [
          -0.5338339637545702
         ],
         "y": [
          0.30510037644650234
         ]
        },
        {
         "mode": "text",
         "showlegend": false,
         "text": [
          "Finish to Start (FtS) - No problem"
         ],
         "type": "scatter",
         "x": [
          0.07905817071567763
         ],
         "y": [
          0.04833253503255406
         ]
        },
        {
         "mode": "text",
         "showlegend": false,
         "text": [
          "Finish to Start (FtS) - No problem"
         ],
         "type": "scatter",
         "x": [
          0.10945665807215926
         ],
         "y": [
          0.0676506847851775
         ]
        }
       ],
       "layout": {
        "hovermode": "closest",
        "plot_bgcolor": "white",
        "showlegend": false,
        "template": {
         "data": {
          "bar": [
           {
            "error_x": {
             "color": "#2a3f5f"
            },
            "error_y": {
             "color": "#2a3f5f"
            },
            "marker": {
             "line": {
              "color": "#E5ECF6",
              "width": 0.5
             },
             "pattern": {
              "fillmode": "overlay",
              "size": 10,
              "solidity": 0.2
             }
            },
            "type": "bar"
           }
          ],
          "barpolar": [
           {
            "marker": {
             "line": {
              "color": "#E5ECF6",
              "width": 0.5
             },
             "pattern": {
              "fillmode": "overlay",
              "size": 10,
              "solidity": 0.2
             }
            },
            "type": "barpolar"
           }
          ],
          "carpet": [
           {
            "aaxis": {
             "endlinecolor": "#2a3f5f",
             "gridcolor": "white",
             "linecolor": "white",
             "minorgridcolor": "white",
             "startlinecolor": "#2a3f5f"
            },
            "baxis": {
             "endlinecolor": "#2a3f5f",
             "gridcolor": "white",
             "linecolor": "white",
             "minorgridcolor": "white",
             "startlinecolor": "#2a3f5f"
            },
            "type": "carpet"
           }
          ],
          "choropleth": [
           {
            "colorbar": {
             "outlinewidth": 0,
             "ticks": ""
            },
            "type": "choropleth"
           }
          ],
          "contour": [
           {
            "colorbar": {
             "outlinewidth": 0,
             "ticks": ""
            },
            "colorscale": [
             [
              0,
              "#0d0887"
             ],
             [
              0.1111111111111111,
              "#46039f"
             ],
             [
              0.2222222222222222,
              "#7201a8"
             ],
             [
              0.3333333333333333,
              "#9c179e"
             ],
             [
              0.4444444444444444,
              "#bd3786"
             ],
             [
              0.5555555555555556,
              "#d8576b"
             ],
             [
              0.6666666666666666,
              "#ed7953"
             ],
             [
              0.7777777777777778,
              "#fb9f3a"
             ],
             [
              0.8888888888888888,
              "#fdca26"
             ],
             [
              1,
              "#f0f921"
             ]
            ],
            "type": "contour"
           }
          ],
          "contourcarpet": [
           {
            "colorbar": {
             "outlinewidth": 0,
             "ticks": ""
            },
            "type": "contourcarpet"
           }
          ],
          "heatmap": [
           {
            "colorbar": {
             "outlinewidth": 0,
             "ticks": ""
            },
            "colorscale": [
             [
              0,
              "#0d0887"
             ],
             [
              0.1111111111111111,
              "#46039f"
             ],
             [
              0.2222222222222222,
              "#7201a8"
             ],
             [
              0.3333333333333333,
              "#9c179e"
             ],
             [
              0.4444444444444444,
              "#bd3786"
             ],
             [
              0.5555555555555556,
              "#d8576b"
             ],
             [
              0.6666666666666666,
              "#ed7953"
             ],
             [
              0.7777777777777778,
              "#fb9f3a"
             ],
             [
              0.8888888888888888,
              "#fdca26"
             ],
             [
              1,
              "#f0f921"
             ]
            ],
            "type": "heatmap"
           }
          ],
          "heatmapgl": [
           {
            "colorbar": {
             "outlinewidth": 0,
             "ticks": ""
            },
            "colorscale": [
             [
              0,
              "#0d0887"
             ],
             [
              0.1111111111111111,
              "#46039f"
             ],
             [
              0.2222222222222222,
              "#7201a8"
             ],
             [
              0.3333333333333333,
              "#9c179e"
             ],
             [
              0.4444444444444444,
              "#bd3786"
             ],
             [
              0.5555555555555556,
              "#d8576b"
             ],
             [
              0.6666666666666666,
              "#ed7953"
             ],
             [
              0.7777777777777778,
              "#fb9f3a"
             ],
             [
              0.8888888888888888,
              "#fdca26"
             ],
             [
              1,
              "#f0f921"
             ]
            ],
            "type": "heatmapgl"
           }
          ],
          "histogram": [
           {
            "marker": {
             "pattern": {
              "fillmode": "overlay",
              "size": 10,
              "solidity": 0.2
             }
            },
            "type": "histogram"
           }
          ],
          "histogram2d": [
           {
            "colorbar": {
             "outlinewidth": 0,
             "ticks": ""
            },
            "colorscale": [
             [
              0,
              "#0d0887"
             ],
             [
              0.1111111111111111,
              "#46039f"
             ],
             [
              0.2222222222222222,
              "#7201a8"
             ],
             [
              0.3333333333333333,
              "#9c179e"
             ],
             [
              0.4444444444444444,
              "#bd3786"
             ],
             [
              0.5555555555555556,
              "#d8576b"
             ],
             [
              0.6666666666666666,
              "#ed7953"
             ],
             [
              0.7777777777777778,
              "#fb9f3a"
             ],
             [
              0.8888888888888888,
              "#fdca26"
             ],
             [
              1,
              "#f0f921"
             ]
            ],
            "type": "histogram2d"
           }
          ],
          "histogram2dcontour": [
           {
            "colorbar": {
             "outlinewidth": 0,
             "ticks": ""
            },
            "colorscale": [
             [
              0,
              "#0d0887"
             ],
             [
              0.1111111111111111,
              "#46039f"
             ],
             [
              0.2222222222222222,
              "#7201a8"
             ],
             [
              0.3333333333333333,
              "#9c179e"
             ],
             [
              0.4444444444444444,
              "#bd3786"
             ],
             [
              0.5555555555555556,
              "#d8576b"
             ],
             [
              0.6666666666666666,
              "#ed7953"
             ],
             [
              0.7777777777777778,
              "#fb9f3a"
             ],
             [
              0.8888888888888888,
              "#fdca26"
             ],
             [
              1,
              "#f0f921"
             ]
            ],
            "type": "histogram2dcontour"
           }
          ],
          "mesh3d": [
           {
            "colorbar": {
             "outlinewidth": 0,
             "ticks": ""
            },
            "type": "mesh3d"
           }
          ],
          "parcoords": [
           {
            "line": {
             "colorbar": {
              "outlinewidth": 0,
              "ticks": ""
             }
            },
            "type": "parcoords"
           }
          ],
          "pie": [
           {
            "automargin": true,
            "type": "pie"
           }
          ],
          "scatter": [
           {
            "fillpattern": {
             "fillmode": "overlay",
             "size": 10,
             "solidity": 0.2
            },
            "type": "scatter"
           }
          ],
          "scatter3d": [
           {
            "line": {
             "colorbar": {
              "outlinewidth": 0,
              "ticks": ""
             }
            },
            "marker": {
             "colorbar": {
              "outlinewidth": 0,
              "ticks": ""
             }
            },
            "type": "scatter3d"
           }
          ],
          "scattercarpet": [
           {
            "marker": {
             "colorbar": {
              "outlinewidth": 0,
              "ticks": ""
             }
            },
            "type": "scattercarpet"
           }
          ],
          "scattergeo": [
           {
            "marker": {
             "colorbar": {
              "outlinewidth": 0,
              "ticks": ""
             }
            },
            "type": "scattergeo"
           }
          ],
          "scattergl": [
           {
            "marker": {
             "colorbar": {
              "outlinewidth": 0,
              "ticks": ""
             }
            },
            "type": "scattergl"
           }
          ],
          "scattermapbox": [
           {
            "marker": {
             "colorbar": {
              "outlinewidth": 0,
              "ticks": ""
             }
            },
            "type": "scattermapbox"
           }
          ],
          "scatterpolar": [
           {
            "marker": {
             "colorbar": {
              "outlinewidth": 0,
              "ticks": ""
             }
            },
            "type": "scatterpolar"
           }
          ],
          "scatterpolargl": [
           {
            "marker": {
             "colorbar": {
              "outlinewidth": 0,
              "ticks": ""
             }
            },
            "type": "scatterpolargl"
           }
          ],
          "scatterternary": [
           {
            "marker": {
             "colorbar": {
              "outlinewidth": 0,
              "ticks": ""
             }
            },
            "type": "scatterternary"
           }
          ],
          "surface": [
           {
            "colorbar": {
             "outlinewidth": 0,
             "ticks": ""
            },
            "colorscale": [
             [
              0,
              "#0d0887"
             ],
             [
              0.1111111111111111,
              "#46039f"
             ],
             [
              0.2222222222222222,
              "#7201a8"
             ],
             [
              0.3333333333333333,
              "#9c179e"
             ],
             [
              0.4444444444444444,
              "#bd3786"
             ],
             [
              0.5555555555555556,
              "#d8576b"
             ],
             [
              0.6666666666666666,
              "#ed7953"
             ],
             [
              0.7777777777777778,
              "#fb9f3a"
             ],
             [
              0.8888888888888888,
              "#fdca26"
             ],
             [
              1,
              "#f0f921"
             ]
            ],
            "type": "surface"
           }
          ],
          "table": [
           {
            "cells": {
             "fill": {
              "color": "#EBF0F8"
             },
             "line": {
              "color": "white"
             }
            },
            "header": {
             "fill": {
              "color": "#C8D4E3"
             },
             "line": {
              "color": "white"
             }
            },
            "type": "table"
           }
          ]
         },
         "layout": {
          "annotationdefaults": {
           "arrowcolor": "#2a3f5f",
           "arrowhead": 0,
           "arrowwidth": 1
          },
          "autotypenumbers": "strict",
          "coloraxis": {
           "colorbar": {
            "outlinewidth": 0,
            "ticks": ""
           }
          },
          "colorscale": {
           "diverging": [
            [
             0,
             "#8e0152"
            ],
            [
             0.1,
             "#c51b7d"
            ],
            [
             0.2,
             "#de77ae"
            ],
            [
             0.3,
             "#f1b6da"
            ],
            [
             0.4,
             "#fde0ef"
            ],
            [
             0.5,
             "#f7f7f7"
            ],
            [
             0.6,
             "#e6f5d0"
            ],
            [
             0.7,
             "#b8e186"
            ],
            [
             0.8,
             "#7fbc41"
            ],
            [
             0.9,
             "#4d9221"
            ],
            [
             1,
             "#276419"
            ]
           ],
           "sequential": [
            [
             0,
             "#0d0887"
            ],
            [
             0.1111111111111111,
             "#46039f"
            ],
            [
             0.2222222222222222,
             "#7201a8"
            ],
            [
             0.3333333333333333,
             "#9c179e"
            ],
            [
             0.4444444444444444,
             "#bd3786"
            ],
            [
             0.5555555555555556,
             "#d8576b"
            ],
            [
             0.6666666666666666,
             "#ed7953"
            ],
            [
             0.7777777777777778,
             "#fb9f3a"
            ],
            [
             0.8888888888888888,
             "#fdca26"
            ],
            [
             1,
             "#f0f921"
            ]
           ],
           "sequentialminus": [
            [
             0,
             "#0d0887"
            ],
            [
             0.1111111111111111,
             "#46039f"
            ],
            [
             0.2222222222222222,
             "#7201a8"
            ],
            [
             0.3333333333333333,
             "#9c179e"
            ],
            [
             0.4444444444444444,
             "#bd3786"
            ],
            [
             0.5555555555555556,
             "#d8576b"
            ],
            [
             0.6666666666666666,
             "#ed7953"
            ],
            [
             0.7777777777777778,
             "#fb9f3a"
            ],
            [
             0.8888888888888888,
             "#fdca26"
            ],
            [
             1,
             "#f0f921"
            ]
           ]
          },
          "colorway": [
           "#636efa",
           "#EF553B",
           "#00cc96",
           "#ab63fa",
           "#FFA15A",
           "#19d3f3",
           "#FF6692",
           "#B6E880",
           "#FF97FF",
           "#FECB52"
          ],
          "font": {
           "color": "#2a3f5f"
          },
          "geo": {
           "bgcolor": "white",
           "lakecolor": "white",
           "landcolor": "#E5ECF6",
           "showlakes": true,
           "showland": true,
           "subunitcolor": "white"
          },
          "hoverlabel": {
           "align": "left"
          },
          "hovermode": "closest",
          "mapbox": {
           "style": "light"
          },
          "paper_bgcolor": "white",
          "plot_bgcolor": "#E5ECF6",
          "polar": {
           "angularaxis": {
            "gridcolor": "white",
            "linecolor": "white",
            "ticks": ""
           },
           "bgcolor": "#E5ECF6",
           "radialaxis": {
            "gridcolor": "white",
            "linecolor": "white",
            "ticks": ""
           }
          },
          "scene": {
           "xaxis": {
            "backgroundcolor": "#E5ECF6",
            "gridcolor": "white",
            "gridwidth": 2,
            "linecolor": "white",
            "showbackground": true,
            "ticks": "",
            "zerolinecolor": "white"
           },
           "yaxis": {
            "backgroundcolor": "#E5ECF6",
            "gridcolor": "white",
            "gridwidth": 2,
            "linecolor": "white",
            "showbackground": true,
            "ticks": "",
            "zerolinecolor": "white"
           },
           "zaxis": {
            "backgroundcolor": "#E5ECF6",
            "gridcolor": "white",
            "gridwidth": 2,
            "linecolor": "white",
            "showbackground": true,
            "ticks": "",
            "zerolinecolor": "white"
           }
          },
          "shapedefaults": {
           "line": {
            "color": "#2a3f5f"
           }
          },
          "ternary": {
           "aaxis": {
            "gridcolor": "white",
            "linecolor": "white",
            "ticks": ""
           },
           "baxis": {
            "gridcolor": "white",
            "linecolor": "white",
            "ticks": ""
           },
           "bgcolor": "#E5ECF6",
           "caxis": {
            "gridcolor": "white",
            "linecolor": "white",
            "ticks": ""
           }
          },
          "title": {
           "x": 0.05
          },
          "xaxis": {
           "automargin": true,
           "gridcolor": "white",
           "linecolor": "white",
           "ticks": "",
           "title": {
            "standoff": 15
           },
           "zerolinecolor": "white",
           "zerolinewidth": 2
          },
          "yaxis": {
           "automargin": true,
           "gridcolor": "white",
           "linecolor": "white",
           "ticks": "",
           "title": {
            "standoff": 15
           },
           "zerolinecolor": "white",
           "zerolinewidth": 2
          }
         }
        },
        "title": {
         "text": "Activity Dependency Network",
         "x": 0.5
        },
        "xaxis": {
         "showgrid": false,
         "zeroline": false
        },
        "yaxis": {
         "showgrid": false,
         "zeroline": false
        }
       }
      }
     },
     "metadata": {},
     "output_type": "display_data"
    }
   ],
   "source": [
    "# Create a directed graph\n",
    "G = nx.DiGraph()\n",
    "\n",
    "# Add nodes and edges based on dependencies data\n",
    "for _, row in dependencies_df.iterrows():\n",
    "    G.add_edge(row['Activity A'], row['Activity B'], \n",
    "               type=row['Type of dependency'], \n",
    "               status=row['Dependency status'],\n",
    "               comment=row['Comment'])\n",
    "\n",
    "# Create a Plotly layout for the graph\n",
    "pos = nx.spring_layout(G, seed=42)  # Layout for positioning nodes\n",
    "\n",
    "# Extract node positions\n",
    "node_x = [pos[node][0] for node in G.nodes()]\n",
    "node_y = [pos[node][1] for node in G.nodes()]\n",
    "\n",
    "# Create edges (with their positions)\n",
    "edge_x = []\n",
    "edge_y = []\n",
    "edge_labels = {}\n",
    "for edge in G.edges():\n",
    "    x0, y0 = pos[edge[0]]\n",
    "    x1, y1 = pos[edge[1]]\n",
    "    edge_x.append(x0)\n",
    "    edge_x.append(x1)\n",
    "    edge_y.append(y0)\n",
    "    edge_y.append(y1)\n",
    "    edge_labels[(edge[0], edge[1])] = f\"{G[edge[0]][edge[1]]['type']} - {G[edge[0]][edge[1]]['status']}\"\n",
    "\n",
    "# Create Plotly figure for network\n",
    "fig = go.Figure()\n",
    "\n",
    "# Assign random colors to nodes based on task/activity (optional enhancement)\n",
    "task_colors = {task: f'rgba({random.randint(100, 255)}, {random.randint(100, 255)}, {random.randint(100, 255)}, 0.8)' for task in G.nodes()}\n",
    "node_color = [task_colors[node] for node in G.nodes()]\n",
    "\n",
    "# Add edges to the plot\n",
    "fig.add_trace(go.Scatter(x=edge_x, y=edge_y,\n",
    "                         line=dict(width=1, color='gray'),\n",
    "                         hoverinfo='text',\n",
    "                         mode='lines'))\n",
    "\n",
    "# Add nodes to the plot\n",
    "fig.add_trace(go.Scatter(x=node_x, y=node_y,\n",
    "                         mode='markers+text',\n",
    "                         hoverinfo='text',\n",
    "                         text=[node for node in G.nodes()],  # Show full activity names in tooltips\n",
    "                         textposition='bottom center',\n",
    "                         marker=dict(color=node_color, size=20, line=dict(width=2, color='black'))))\n",
    "\n",
    "# Add edge labels with dependency type and status\n",
    "for edge, label in edge_labels.items():\n",
    "    x0, y0 = pos[edge[0]]\n",
    "    x1, y1 = pos[edge[1]]\n",
    "    fig.add_trace(go.Scatter(x=[(x0 + x1) / 2], y=[(y0 + y1) / 2],\n",
    "                             mode='text',\n",
    "                             text=[label],\n",
    "                             showlegend=False))\n",
    "\n",
    "# Set layout options for interactivity\n",
    "fig.update_layout(\n",
    "    title=\"Activity Dependency Network\",\n",
    "    title_x=0.5,\n",
    "    showlegend=False,\n",
    "    hovermode=\"closest\",\n",
    "    xaxis=dict(showgrid=False, zeroline=False),\n",
    "    yaxis=dict(showgrid=False, zeroline=False),\n",
    "    plot_bgcolor=\"white\",\n",
    ")\n",
    "\n",
    "# Display the interactive plot\n",
    "fig.show()\n"
   ]
  }
 ],
 "metadata": {
  "kernelspec": {
   "display_name": "venv",
   "language": "python",
   "name": "python3"
  },
  "language_info": {
   "codemirror_mode": {
    "name": "ipython",
    "version": 3
   },
   "file_extension": ".py",
   "mimetype": "text/x-python",
   "name": "python",
   "nbconvert_exporter": "python",
   "pygments_lexer": "ipython3",
   "version": "3.12.3"
  }
 },
 "nbformat": 4,
 "nbformat_minor": 2
}
